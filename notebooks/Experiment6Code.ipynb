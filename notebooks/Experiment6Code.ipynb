{
  "nbformat": 4,
  "nbformat_minor": 0,
  "metadata": {
    "accelerator": "GPU",
    "colab": {
      "name": "Experiment6Code.ipynb",
      "provenance": [],
      "collapsed_sections": []
    },
    "kernelspec": {
      "display_name": "Python 3",
      "language": "python",
      "name": "python3"
    },
    "language_info": {
      "codemirror_mode": {
        "name": "ipython",
        "version": 3
      },
      "file_extension": ".py",
      "mimetype": "text/x-python",
      "name": "python",
      "nbconvert_exporter": "python",
      "pygments_lexer": "ipython3",
      "version": "3.8.5"
    }
  },
  "cells": [
    {
      "cell_type": "code",
      "metadata": {
        "id": "Imr2Q9J6WX00"
      },
      "source": [
        "import os\n",
        "import datetime\n",
        "import numpy as np # linear algebra\n",
        "import pandas as pd # data processing, CSV file I/O (e.g. pd.read_csv)\n",
        "\n",
        "\n",
        "%matplotlib inline\n",
        "%config InlineBackend.figure_format = 'retina'\n",
        "import matplotlib.pyplot as plt\n",
        "from sklearn.metrics import f1_score\n",
        "\n",
        "import torch\n",
        "import torch.nn as nn\n",
        "import torch.nn.functional as F\n",
        "from torch.autograd import Variable\n",
        "from torch.utils.data import Dataset, DataLoader\n",
        "import itertools\n",
        "\n",
        "import torchvision\n",
        "from torchvision import datasets, transforms, models\n",
        "import torchvision.transforms as transforms\n",
        "\n",
        "from sklearn import metrics\n",
        "from sklearn.model_selection import train_test_split\n",
        "\n",
        "import seaborn as sns\n",
        "from tqdm.notebook import tqdm\n",
        "torch.manual_seed(17)\n",
        "\n",
        "import torch.optim as optim\n",
        "import time\n",
        "import copy\n",
        "\n",
        "device = torch.device('cuda:0' if torch.cuda.is_available() else 'cpu')\n"
      ],
      "execution_count": null,
      "outputs": []
    },
    {
      "cell_type": "code",
      "metadata": {
        "colab": {
          "base_uri": "https://localhost:8080/"
        },
        "id": "qieQwRr-Lxiu",
        "outputId": "c2d3338e-2f71-4b3e-eaea-06058a178855"
      },
      "source": [
        "device"
      ],
      "execution_count": null,
      "outputs": [
        {
          "output_type": "execute_result",
          "data": {
            "text/plain": [
              "device(type='cuda', index=0)"
            ]
          },
          "metadata": {
            "tags": []
          },
          "execution_count": 2
        }
      ]
    },
    {
      "cell_type": "markdown",
      "metadata": {
        "id": "wXVonbQ4Lxiv"
      },
      "source": [
        "Google Colab commands"
      ]
    },
    {
      "cell_type": "code",
      "metadata": {
        "colab": {
          "base_uri": "https://localhost:8080/"
        },
        "id": "zjcIsjS4WhdH",
        "outputId": "795ec2ff-0723-4cdf-c126-f5cc18360127"
      },
      "source": [
        "from google.colab import drive\n",
        "drive.mount('/content/drive')"
      ],
      "execution_count": null,
      "outputs": [
        {
          "output_type": "stream",
          "text": [
            "Mounted at /content/drive\n"
          ],
          "name": "stdout"
        }
      ]
    },
    {
      "cell_type": "code",
      "metadata": {
        "id": "rwUVgwJrWyOx"
      },
      "source": [
        "dir_path = \"/content/drive/MyDrive/COVID-19_Radiography_Dataset\"\n",
        "rs_chkpt_path = \"/content/drive/MyDrive/COVID-19_Radiography_Dataset/resnet/\""
      ],
      "execution_count": null,
      "outputs": []
    },
    {
      "cell_type": "code",
      "metadata": {
        "id": "VjFW7_7OWlDR"
      },
      "source": [
        "train_path = \"/content/drive/MyDrive/COVID-19_Radiography_Dataset/split_images/train\"\n",
        "val_path = \"/content/drive/MyDrive/COVID-19_Radiography_Dataset/split_images/val\"\n",
        "test_path = \"/content/drive/MyDrive/COVID-19_Radiography_Dataset/split_images/test\""
      ],
      "execution_count": null,
      "outputs": []
    },
    {
      "cell_type": "markdown",
      "metadata": {
        "id": "yHoTIxO-Lxix"
      },
      "source": [
        "Local commands"
      ]
    },
    {
      "cell_type": "code",
      "metadata": {
        "id": "dsvOCkznLxix",
        "outputId": "5b2b367c-44e1-4506-a380-e65d627b3197"
      },
      "source": [
        "dir_path = os.getcwd()\n",
        "dir_path"
      ],
      "execution_count": null,
      "outputs": [
        {
          "output_type": "execute_result",
          "data": {
            "text/plain": [
              "'/home/eric/PycharmProjects/tfg/notebooks'"
            ]
          },
          "metadata": {
            "tags": []
          },
          "execution_count": 4
        }
      ]
    },
    {
      "cell_type": "code",
      "metadata": {
        "id": "WWBleyVxLxiy",
        "outputId": "7aa8dea9-7708-4a69-a5a5-a8a21833e6f8"
      },
      "source": [
        "proj_dir = os.path.dirname(os.getcwd())\n",
        "print(proj_dir)"
      ],
      "execution_count": null,
      "outputs": [
        {
          "output_type": "stream",
          "text": [
            "/home/eric/PycharmProjects/tfg\n"
          ],
          "name": "stdout"
        }
      ]
    },
    {
      "cell_type": "code",
      "metadata": {
        "id": "QDEzqxkVLxiy"
      },
      "source": [
        "train_path = proj_dir+\"/split_images/train\"\n",
        "val_path = proj_dir+\"/split_images/val\"\n",
        "test_path = proj_dir+\"/split_images/test\""
      ],
      "execution_count": null,
      "outputs": []
    },
    {
      "cell_type": "markdown",
      "metadata": {
        "id": "qTqjdvKtatKn"
      },
      "source": [
        "# Save/load model functions"
      ]
    },
    {
      "cell_type": "code",
      "metadata": {
        "id": "axkdSUveQipf"
      },
      "source": [
        "def save_ckp(state, is_best, checkpoint_path, best_model_path):\n",
        "    \"\"\"\n",
        "    state: checkpoint we want to save\n",
        "    is_best: is this the best checkpoint; min validation loss\n",
        "    checkpoint_path: path to save checkpoint\n",
        "    best_model_path: path to save best model\n",
        "    \"\"\"\n",
        "    f_path = checkpoint_path\n",
        "    # save checkpoint data to the path given, checkpoint_path\n",
        "    torch.save(state, f_path)\n",
        "    # if it is a best model, min validation loss\n",
        "    if is_best:\n",
        "        best_fpath = best_model_path\n",
        "        # copy that checkpoint file to best path given, best_model_path\n",
        "        shutil.copyfile(f_path, best_fpath)\n",
        "\n",
        "def load_ckp(checkpoint_fpath, model, optimizer):\n",
        "    \"\"\"\n",
        "    checkpoint_path: path to save checkpoint\n",
        "    model: model that we want to load checkpoint parameters into       \n",
        "    optimizer: optimizer we defined in previous training\n",
        "    \"\"\"\n",
        "    # load check point\n",
        "    checkpoint = torch.load(checkpoint_fpath)\n",
        "    # initialize state_dict from checkpoint to model\n",
        "    model.load_state_dict(checkpoint['state_dict'])\n",
        "    # initialize optimizer from checkpoint to optimizer\n",
        "    optimizer.load_state_dict(checkpoint['optimizer'])\n",
        "    # initialize valid_loss_min from checkpoint to valid_loss_min\n",
        "    valid_loss_min = checkpoint['valid_loss_min']\n",
        "    # return model, optimizer, epoch value, min validation loss \n",
        "    return model, optimizer, checkpoint['epoch'], valid_loss_min.item()"
      ],
      "execution_count": null,
      "outputs": []
    },
    {
      "cell_type": "markdown",
      "metadata": {
        "id": "iB56l6MDaumG"
      },
      "source": [
        "# ResNet Transforms"
      ]
    },
    {
      "cell_type": "code",
      "metadata": {
        "id": "huRxTxpeW7uO"
      },
      "source": [
        "image_transforms = {\n",
        "    \"train\": transforms.Compose([\n",
        "        transforms.Resize((255, 255)),\n",
        "        transforms.ToTensor(),\n",
        "        transforms.Normalize(mean=[0.485, 0.456, 0.406],\n",
        "                             std=[0.229, 0.224, 0.225])\n",
        "    ])\n",
        "}"
      ],
      "execution_count": null,
      "outputs": []
    },
    {
      "cell_type": "code",
      "metadata": {
        "id": "VQCOpnzJW2r3"
      },
      "source": [
        "train_dataset = datasets.ImageFolder(\n",
        "                              root = train_path,\n",
        "                              transform = image_transforms[\"train\"]\n",
        "                       )\n",
        "\n",
        "val_dataset = datasets.ImageFolder(\n",
        "                              root = val_path,\n",
        "                              transform = image_transforms[\"train\"]\n",
        "                       )\n",
        "\n",
        "test_dataset = datasets.ImageFolder(\n",
        "                              root = test_path,\n",
        "                              transform = image_transforms[\"train\"]\n",
        "                       )"
      ],
      "execution_count": null,
      "outputs": []
    },
    {
      "cell_type": "code",
      "metadata": {
        "scrolled": true,
        "colab": {
          "base_uri": "https://localhost:8080/"
        },
        "id": "2No3DDQmLxiz",
        "outputId": "e8065710-247c-40cd-832d-57a2d9dfc8bc"
      },
      "source": [
        "print(\"Training length: \", len(train_dataset))\n",
        "print(\"Validation length: \", len(val_dataset))\n",
        "print(\"Testing length: \", len(test_dataset))"
      ],
      "execution_count": null,
      "outputs": [
        {
          "output_type": "stream",
          "text": [
            "Training length:  11964\n",
            "Validation length:  2279\n",
            "Testing length:  910\n"
          ],
          "name": "stdout"
        }
      ]
    },
    {
      "cell_type": "code",
      "metadata": {
        "id": "4Lw3vW2QdLpI"
      },
      "source": [
        "train_idx2class = {v: k for k, v in train_dataset.class_to_idx.items()}\n",
        "val_idx2class = {v: k for k, v in val_dataset.class_to_idx.items()}\n",
        "test_idx2class = {v: k for k, v in test_dataset.class_to_idx.items()}"
      ],
      "execution_count": null,
      "outputs": []
    },
    {
      "cell_type": "code",
      "metadata": {
        "id": "MWlYd3BILxiz"
      },
      "source": [
        "def get_class_distribution(dataset_obj, idx2class):\n",
        "    count_dict = {k:0 for k,v in dataset_obj.class_to_idx.items()}\n",
        "    \n",
        "    for element in dataset_obj:\n",
        "        y_lbl = element[1]\n",
        "        y_lbl = idx2class[y_lbl]\n",
        "        count_dict[y_lbl] += 1\n",
        "            \n",
        "    return count_dict"
      ],
      "execution_count": null,
      "outputs": []
    },
    {
      "cell_type": "code",
      "metadata": {
        "id": "BtIpam9pLxi0",
        "outputId": "8642fea8-1720-42c0-8724-e5b241677d0a"
      },
      "source": [
        "fig, axes = plt.subplots(nrows=1, ncols=3, figsize=(18,7))\n",
        "\n",
        "sns.barplot(data = pd.DataFrame.from_dict([get_class_distribution(train_dataset, train_idx2class)]).melt(), x = \"variable\", y=\"value\", hue=\"variable\", ax=axes[0]).set_title('Train Set Class Distribution')\n",
        "\n",
        "sns.barplot(data = pd.DataFrame.from_dict([get_class_distribution(val_dataset, val_idx2class)]).melt(), x = \"variable\", y=\"value\", hue=\"variable\",ax=axes[1]).set_title('Val Set Class Distribution')\n",
        "\n",
        "sns.barplot(data = pd.DataFrame.from_dict([get_class_distribution(test_dataset, test_idx2class)]).melt(), x = \"variable\", y=\"value\", hue=\"variable\",ax=axes[2]).set_title('Train Set Class Distribution')"
      ],
      "execution_count": null,
      "outputs": [
        {
          "output_type": "execute_result",
          "data": {
            "text/plain": [
              "Text(0.5, 1.0, 'Train Set Class Distribution')"
            ]
          },
          "metadata": {
            "tags": []
          },
          "execution_count": 11
        },
        {
          "output_type": "display_data",
          "data": {
            "image/png": "[encoded data removed]",
            "text/plain": [
              "<Figure size 1296x504 with 3 Axes>"
            ]
          },
          "metadata": {
            "tags": [],
            "image/png": {
              "height": 440,
              "width": 1064
            },
            "needs_background": "light"
          }
        }
      ]
    },
    {
      "cell_type": "code",
      "metadata": {
        "id": "8LtoO1zNdi0x"
      },
      "source": [
        "dataloader_train = torch.utils.data.DataLoader(train_dataset, batch_size=124, shuffle=True)\n",
        "dataloader_valid = torch.utils.data.DataLoader(val_dataset, batch_size=124, shuffle=True)\n",
        "dataloader_test = torch.utils.data.DataLoader(test_dataset, batch_size=32, shuffle=True)"
      ],
      "execution_count": null,
      "outputs": []
    },
    {
      "cell_type": "markdown",
      "metadata": {
        "id": "ycGS3TUb4teU"
      },
      "source": [
        "# Evaluation Functions"
      ]
    },
    {
      "cell_type": "code",
      "metadata": {
        "id": "QU-_URoi4ts-"
      },
      "source": [
        "# Functions to create confusion matrix\n",
        "\n",
        "def get_confusion_tensor(preds, targets):\n",
        "  stacked = torch.stack(\n",
        "      (\n",
        "          torch.cat(targets, dim=0)\n",
        "          ,torch.cat(preds, dim=0)\n",
        "      )\n",
        "      ,dim=1\n",
        "  )\n",
        "  cmt = torch.zeros(3,3, dtype=torch.int64)\n",
        "  for p in stacked:\n",
        "      tl, pl = p.tolist()\n",
        "      cmt[int(tl), int(pl)] = cmt[int(tl), int(pl)] + 1\n",
        "  return cmt\n",
        "\n",
        "def plot_confusion_matrix(preds, targets, classes, normalize=False, title='Confusion matrix', cmap=plt.cm.Blues):\n",
        "  cm = get_confusion_tensor(preds, targets)\n",
        "\n",
        "  print(cm)\n",
        "  plt.imshow(cm, interpolation='nearest', cmap=cmap)\n",
        "  plt.title(title)\n",
        "  plt.colorbar()\n",
        "  tick_marks = np.arange(len(classes))\n",
        "  plt.xticks(tick_marks, classes, rotation=45, fontsize='large')\n",
        "  plt.yticks(tick_marks, classes, fontsize='large')\n",
        "\n",
        "  fmt = '.2f' if normalize else 'd'\n",
        "  thresh = cm.max() / 2.\n",
        "  for i, j in itertools.product(range(cm.shape[0]), range(cm.shape[1])):\n",
        "      plt.text(j, i, format(cm[i, j], fmt), horizontalalignment=\"center\", fontsize='large', color=\"white\" if cm[i, j] > thresh else \"black\")\n",
        "\n",
        "  plt.tight_layout()\n",
        "  plt.ylabel('True label')\n",
        "  plt.xlabel('Predicted label')"
      ],
      "execution_count": null,
      "outputs": []
    },
    {
      "cell_type": "markdown",
      "metadata": {
        "id": "W0kdNjFKbC98"
      },
      "source": [
        "# ResNet"
      ]
    },
    {
      "cell_type": "code",
      "metadata": {
        "colab": {
          "base_uri": "https://localhost:8080/"
        },
        "id": "wk6n32WJW5gG",
        "outputId": "49cc48b8-995e-44b9-9891-05f4d33f9b75"
      },
      "source": [
        "net = models.resnet18(pretrained=True)\n",
        "device = torch.device(\"cuda:0\" if torch.cuda.is_available() else \"cpu\")\n",
        "net.to(device)"
      ],
      "execution_count": null,
      "outputs": [
        {
          "output_type": "execute_result",
          "data": {
            "text/plain": [
              "ResNet(\n",
              "  (conv1): Conv2d(3, 64, kernel_size=(7, 7), stride=(2, 2), padding=(3, 3), bias=False)\n",
              "  (bn1): BatchNorm2d(64, eps=1e-05, momentum=0.1, affine=True, track_running_stats=True)\n",
              "  (relu): ReLU(inplace=True)\n",
              "  (maxpool): MaxPool2d(kernel_size=3, stride=2, padding=1, dilation=1, ceil_mode=False)\n",
              "  (layer1): Sequential(\n",
              "    (0): BasicBlock(\n",
              "      (conv1): Conv2d(64, 64, kernel_size=(3, 3), stride=(1, 1), padding=(1, 1), bias=False)\n",
              "      (bn1): BatchNorm2d(64, eps=1e-05, momentum=0.1, affine=True, track_running_stats=True)\n",
              "      (relu): ReLU(inplace=True)\n",
              "      (conv2): Conv2d(64, 64, kernel_size=(3, 3), stride=(1, 1), padding=(1, 1), bias=False)\n",
              "      (bn2): BatchNorm2d(64, eps=1e-05, momentum=0.1, affine=True, track_running_stats=True)\n",
              "    )\n",
              "    (1): BasicBlock(\n",
              "      (conv1): Conv2d(64, 64, kernel_size=(3, 3), stride=(1, 1), padding=(1, 1), bias=False)\n",
              "      (bn1): BatchNorm2d(64, eps=1e-05, momentum=0.1, affine=True, track_running_stats=True)\n",
              "      (relu): ReLU(inplace=True)\n",
              "      (conv2): Conv2d(64, 64, kernel_size=(3, 3), stride=(1, 1), padding=(1, 1), bias=False)\n",
              "      (bn2): BatchNorm2d(64, eps=1e-05, momentum=0.1, affine=True, track_running_stats=True)\n",
              "    )\n",
              "  )\n",
              "  (layer2): Sequential(\n",
              "    (0): BasicBlock(\n",
              "      (conv1): Conv2d(64, 128, kernel_size=(3, 3), stride=(2, 2), padding=(1, 1), bias=False)\n",
              "      (bn1): BatchNorm2d(128, eps=1e-05, momentum=0.1, affine=True, track_running_stats=True)\n",
              "      (relu): ReLU(inplace=True)\n",
              "      (conv2): Conv2d(128, 128, kernel_size=(3, 3), stride=(1, 1), padding=(1, 1), bias=False)\n",
              "      (bn2): BatchNorm2d(128, eps=1e-05, momentum=0.1, affine=True, track_running_stats=True)\n",
              "      (downsample): Sequential(\n",
              "        (0): Conv2d(64, 128, kernel_size=(1, 1), stride=(2, 2), bias=False)\n",
              "        (1): BatchNorm2d(128, eps=1e-05, momentum=0.1, affine=True, track_running_stats=True)\n",
              "      )\n",
              "    )\n",
              "    (1): BasicBlock(\n",
              "      (conv1): Conv2d(128, 128, kernel_size=(3, 3), stride=(1, 1), padding=(1, 1), bias=False)\n",
              "      (bn1): BatchNorm2d(128, eps=1e-05, momentum=0.1, affine=True, track_running_stats=True)\n",
              "      (relu): ReLU(inplace=True)\n",
              "      (conv2): Conv2d(128, 128, kernel_size=(3, 3), stride=(1, 1), padding=(1, 1), bias=False)\n",
              "      (bn2): BatchNorm2d(128, eps=1e-05, momentum=0.1, affine=True, track_running_stats=True)\n",
              "    )\n",
              "  )\n",
              "  (layer3): Sequential(\n",
              "    (0): BasicBlock(\n",
              "      (conv1): Conv2d(128, 256, kernel_size=(3, 3), stride=(2, 2), padding=(1, 1), bias=False)\n",
              "      (bn1): BatchNorm2d(256, eps=1e-05, momentum=0.1, affine=True, track_running_stats=True)\n",
              "      (relu): ReLU(inplace=True)\n",
              "      (conv2): Conv2d(256, 256, kernel_size=(3, 3), stride=(1, 1), padding=(1, 1), bias=False)\n",
              "      (bn2): BatchNorm2d(256, eps=1e-05, momentum=0.1, affine=True, track_running_stats=True)\n",
              "      (downsample): Sequential(\n",
              "        (0): Conv2d(128, 256, kernel_size=(1, 1), stride=(2, 2), bias=False)\n",
              "        (1): BatchNorm2d(256, eps=1e-05, momentum=0.1, affine=True, track_running_stats=True)\n",
              "      )\n",
              "    )\n",
              "    (1): BasicBlock(\n",
              "      (conv1): Conv2d(256, 256, kernel_size=(3, 3), stride=(1, 1), padding=(1, 1), bias=False)\n",
              "      (bn1): BatchNorm2d(256, eps=1e-05, momentum=0.1, affine=True, track_running_stats=True)\n",
              "      (relu): ReLU(inplace=True)\n",
              "      (conv2): Conv2d(256, 256, kernel_size=(3, 3), stride=(1, 1), padding=(1, 1), bias=False)\n",
              "      (bn2): BatchNorm2d(256, eps=1e-05, momentum=0.1, affine=True, track_running_stats=True)\n",
              "    )\n",
              "  )\n",
              "  (layer4): Sequential(\n",
              "    (0): BasicBlock(\n",
              "      (conv1): Conv2d(256, 512, kernel_size=(3, 3), stride=(2, 2), padding=(1, 1), bias=False)\n",
              "      (bn1): BatchNorm2d(512, eps=1e-05, momentum=0.1, affine=True, track_running_stats=True)\n",
              "      (relu): ReLU(inplace=True)\n",
              "      (conv2): Conv2d(512, 512, kernel_size=(3, 3), stride=(1, 1), padding=(1, 1), bias=False)\n",
              "      (bn2): BatchNorm2d(512, eps=1e-05, momentum=0.1, affine=True, track_running_stats=True)\n",
              "      (downsample): Sequential(\n",
              "        (0): Conv2d(256, 512, kernel_size=(1, 1), stride=(2, 2), bias=False)\n",
              "        (1): BatchNorm2d(512, eps=1e-05, momentum=0.1, affine=True, track_running_stats=True)\n",
              "      )\n",
              "    )\n",
              "    (1): BasicBlock(\n",
              "      (conv1): Conv2d(512, 512, kernel_size=(3, 3), stride=(1, 1), padding=(1, 1), bias=False)\n",
              "      (bn1): BatchNorm2d(512, eps=1e-05, momentum=0.1, affine=True, track_running_stats=True)\n",
              "      (relu): ReLU(inplace=True)\n",
              "      (conv2): Conv2d(512, 512, kernel_size=(3, 3), stride=(1, 1), padding=(1, 1), bias=False)\n",
              "      (bn2): BatchNorm2d(512, eps=1e-05, momentum=0.1, affine=True, track_running_stats=True)\n",
              "    )\n",
              "  )\n",
              "  (avgpool): AdaptiveAvgPool2d(output_size=(1, 1))\n",
              "  (fc): Linear(in_features=512, out_features=1000, bias=True)\n",
              ")"
            ]
          },
          "metadata": {
            "tags": []
          },
          "execution_count": 21
        }
      ]
    },
    {
      "cell_type": "code",
      "metadata": {
        "id": "QCJdCCslZfeh"
      },
      "source": [
        "criterion = nn.CrossEntropyLoss()\n",
        "optimizer = optim.SGD(net.parameters(), lr=0.0001, momentum=0.9)\n",
        "\n"
      ],
      "execution_count": null,
      "outputs": []
    },
    {
      "cell_type": "code",
      "metadata": {
        "id": "qiI7_OxVcDbN"
      },
      "source": [
        "def accuracy(out, labels):\n",
        "    _,pred = torch.max(out, dim=1)\n",
        "    return torch.sum(pred==labels).item()\n",
        "\n",
        "num_ftrs = net.fc.in_features\n",
        "net.fc = nn.Linear(num_ftrs, 3)\n",
        "net.fc = net.fc.cuda() "
      ],
      "execution_count": null,
      "outputs": []
    },
    {
      "cell_type": "code",
      "metadata": {
        "id": "jE492nQMbLEz"
      },
      "source": [
        "def train_model(n_epochs, print_every):\n",
        "  \n",
        "\n",
        "  criterion = nn.CrossEntropyLoss()\n",
        "  optimizer = optim.SGD(net.parameters(), lr=0.0001, momentum=0.9)    \n",
        "\n",
        "  valid_loss_min = np.Inf\n",
        "  loss_history=[]  \n",
        "  correct_history=[]  \n",
        "  val_loss_history=[]  \n",
        "  val_correct_history=[]  \n",
        "  val_loss = []\n",
        "  val_acc = []\n",
        "  train_loss = []\n",
        "  train_acc = []\n",
        "  total_step = len(dataloader_train)\n",
        "  for epoch in range(1, n_epochs+1):\n",
        "    running_loss = 0.0\n",
        "    correct = 0\n",
        "    total=0\n",
        "    print(f'Epoch {epoch}\\n')\n",
        "    for batch_idx, (data_, target_) in enumerate(dataloader_train):\n",
        "      net.train()\n",
        "      data_, target_ = data_.to(device), target_.to(device)\n",
        "      optimizer.zero_grad()\n",
        "      \n",
        "      outputs = net(data_)\n",
        "      loss = criterion(outputs, target_)\n",
        "      loss.backward()\n",
        "      optimizer.step()\n",
        "\n",
        "      running_loss += loss.item()\n",
        "      _,pred = torch.max(outputs, dim=1)\n",
        "      correct += torch.sum(pred==target_).item()\n",
        "      total += target_.size(0)\n",
        "      if (batch_idx) % print_every == 0:\n",
        "          print ('Epoch [{}/{}], Step [{}/{}], Loss: {:.4f}' \n",
        "                .format(epoch, n_epochs, batch_idx, total_step, loss.item()))\n",
        "    train_acc.append(100 * correct / total)\n",
        "    train_loss.append(running_loss/total_step)\n",
        "    print(f'\\ntrain-loss: {np.mean(train_loss):.4f}, train-acc: {(100 * correct/total):.4f}')\n",
        "    batch_loss = 0\n",
        "    total_t=0\n",
        "    correct_t=0\n",
        "    with torch.no_grad():\n",
        "      net.eval()\n",
        "      for data_t, target_t in (dataloader_valid):\n",
        "        data_t, target_t = data_t.to(device), target_t.to(device)\n",
        "        outputs_t = net(data_t)\n",
        "        loss_t = criterion(outputs_t, target_t)\n",
        "        batch_loss += loss_t.item()\n",
        "        _,pred_t = torch.max(outputs_t, dim=1)\n",
        "        correct_t += torch.sum(pred_t==target_t).item()\n",
        "        total_t += target_t.size(0)\n",
        "      val_acc.append(100 * correct_t/total_t)\n",
        "      val_loss.append(batch_loss/len(dataloader_valid))\n",
        "      network_learned = batch_loss < valid_loss_min\n",
        "      print(f'validation loss: {np.mean(val_loss):.4f}, validation acc: {(100 * correct_t/total_t):.4f}\\n')\n",
        "\n",
        "        \n",
        "      if network_learned:\n",
        "        valid_loss_min = batch_loss\n",
        "        torch.save(net.state_dict(), rs_chkpt_path+'/'+str(n_epochs)+'_untrained_resnet.pt')\n",
        "        print('Improvement-Detected, save-model')\n",
        "\n",
        "    epoch_loss=running_loss/len(dataloader_train)\n",
        "    epoch_acc=correct/total\n",
        "    loss_history.append(epoch_loss)\n",
        "    correct_history.append(epoch_acc)\n",
        "    val_epoch_loss=batch_loss/len(dataloader_valid)\n",
        "    val_epoch_acc=correct_t/total_t\n",
        "    val_loss_history.append(val_epoch_loss)\n",
        "    val_correct_history.append(val_epoch_acc)\n",
        "      \n",
        "  return loss_history, val_loss_history, train_acc, val_acc"
      ],
      "execution_count": null,
      "outputs": []
    },
    {
      "cell_type": "markdown",
      "metadata": {
        "id": "0ekYeCFCu8ND"
      },
      "source": [
        "# 15 epochs"
      ]
    },
    {
      "cell_type": "code",
      "metadata": {
        "colab": {
          "base_uri": "https://localhost:8080/"
        },
        "id": "LelDffk2u24x",
        "outputId": "f70f3a49-9fdb-457c-d5e0-d2ab981f8d4e"
      },
      "source": [
        "loss_history, val_loss_history, train_acc, val_acc = train_model(15, 20)"
      ],
      "execution_count": null,
      "outputs": [
        {
          "output_type": "stream",
          "text": [
            "Epoch 1\n",
            "\n",
            "Epoch [1/15], Step [0/374], Loss: 1.2450\n",
            "Epoch [1/15], Step [20/374], Loss: 1.2029\n",
            "Epoch [1/15], Step [40/374], Loss: 1.1105\n",
            "Epoch [1/15], Step [60/374], Loss: 1.1240\n",
            "Epoch [1/15], Step [80/374], Loss: 1.2401\n",
            "Epoch [1/15], Step [100/374], Loss: 1.0458\n",
            "Epoch [1/15], Step [120/374], Loss: 0.9938\n",
            "Epoch [1/15], Step [140/374], Loss: 0.8276\n",
            "Epoch [1/15], Step [160/374], Loss: 0.9383\n",
            "Epoch [1/15], Step [180/374], Loss: 0.9313\n",
            "Epoch [1/15], Step [200/374], Loss: 0.8114\n",
            "Epoch [1/15], Step [220/374], Loss: 0.8744\n",
            "Epoch [1/15], Step [240/374], Loss: 0.6478\n",
            "Epoch [1/15], Step [260/374], Loss: 0.8401\n",
            "Epoch [1/15], Step [280/374], Loss: 0.6169\n",
            "Epoch [1/15], Step [300/374], Loss: 0.8886\n",
            "Epoch [1/15], Step [320/374], Loss: 0.6212\n",
            "Epoch [1/15], Step [340/374], Loss: 0.7068\n",
            "Epoch [1/15], Step [360/374], Loss: 0.8886\n",
            "\n",
            "train-loss: 0.9256, train-acc: 57.4891\n",
            "validation loss: 0.6232, validation acc: 81.0443\n",
            "\n",
            "Improvement-Detected, save-model\n",
            "Epoch 2\n",
            "\n",
            "Epoch [2/15], Step [0/374], Loss: 0.5456\n",
            "Epoch [2/15], Step [20/374], Loss: 0.5167\n",
            "Epoch [2/15], Step [40/374], Loss: 0.4442\n",
            "Epoch [2/15], Step [60/374], Loss: 0.4624\n",
            "Epoch [2/15], Step [80/374], Loss: 0.4882\n",
            "Epoch [2/15], Step [100/374], Loss: 0.4531\n",
            "Epoch [2/15], Step [120/374], Loss: 0.3673\n",
            "Epoch [2/15], Step [140/374], Loss: 0.3801\n",
            "Epoch [2/15], Step [160/374], Loss: 0.4622\n",
            "Epoch [2/15], Step [180/374], Loss: 0.2992\n",
            "Epoch [2/15], Step [200/374], Loss: 0.2843\n",
            "Epoch [2/15], Step [220/374], Loss: 0.3777\n",
            "Epoch [2/15], Step [240/374], Loss: 0.3082\n",
            "Epoch [2/15], Step [260/374], Loss: 0.3025\n",
            "Epoch [2/15], Step [280/374], Loss: 0.3031\n",
            "Epoch [2/15], Step [300/374], Loss: 0.2247\n",
            "Epoch [2/15], Step [320/374], Loss: 0.2329\n",
            "Epoch [2/15], Step [340/374], Loss: 0.3170\n",
            "Epoch [2/15], Step [360/374], Loss: 0.2982\n",
            "\n",
            "train-loss: 0.6741, train-acc: 88.8917\n",
            "validation loss: 0.4652, validation acc: 92.6283\n",
            "\n",
            "Improvement-Detected, save-model\n",
            "Epoch 3\n",
            "\n",
            "Epoch [3/15], Step [0/374], Loss: 0.2945\n",
            "Epoch [3/15], Step [20/374], Loss: 0.3539\n",
            "Epoch [3/15], Step [40/374], Loss: 0.3234\n",
            "Epoch [3/15], Step [60/374], Loss: 0.5252\n",
            "Epoch [3/15], Step [80/374], Loss: 0.2150\n",
            "Epoch [3/15], Step [100/374], Loss: 0.2575\n",
            "Epoch [3/15], Step [120/374], Loss: 0.4087\n",
            "Epoch [3/15], Step [140/374], Loss: 0.4532\n",
            "Epoch [3/15], Step [160/374], Loss: 0.2826\n",
            "Epoch [3/15], Step [180/374], Loss: 0.3545\n",
            "Epoch [3/15], Step [200/374], Loss: 0.1706\n",
            "Epoch [3/15], Step [220/374], Loss: 0.4639\n",
            "Epoch [3/15], Step [240/374], Loss: 0.1678\n",
            "Epoch [3/15], Step [260/374], Loss: 0.1012\n",
            "Epoch [3/15], Step [280/374], Loss: 0.2366\n",
            "Epoch [3/15], Step [300/374], Loss: 0.2334\n",
            "Epoch [3/15], Step [320/374], Loss: 0.1443\n",
            "Epoch [3/15], Step [340/374], Loss: 0.3369\n",
            "Epoch [3/15], Step [360/374], Loss: 0.2143\n",
            "\n",
            "train-loss: 0.5386, train-acc: 93.4972\n",
            "validation loss: 0.3808, validation acc: 94.6468\n",
            "\n",
            "Improvement-Detected, save-model\n",
            "Epoch 4\n",
            "\n",
            "Epoch [4/15], Step [0/374], Loss: 0.1318\n",
            "Epoch [4/15], Step [20/374], Loss: 0.2422\n",
            "Epoch [4/15], Step [40/374], Loss: 0.1253\n",
            "Epoch [4/15], Step [60/374], Loss: 0.2104\n",
            "Epoch [4/15], Step [80/374], Loss: 0.2529\n",
            "Epoch [4/15], Step [100/374], Loss: 0.1792\n",
            "Epoch [4/15], Step [120/374], Loss: 0.2053\n",
            "Epoch [4/15], Step [140/374], Loss: 0.2027\n",
            "Epoch [4/15], Step [160/374], Loss: 0.3073\n",
            "Epoch [4/15], Step [180/374], Loss: 0.3075\n",
            "Epoch [4/15], Step [200/374], Loss: 0.3125\n",
            "Epoch [4/15], Step [220/374], Loss: 0.3627\n",
            "Epoch [4/15], Step [240/374], Loss: 0.1591\n",
            "Epoch [4/15], Step [260/374], Loss: 0.1540\n",
            "Epoch [4/15], Step [280/374], Loss: 0.1115\n",
            "Epoch [4/15], Step [300/374], Loss: 0.2440\n",
            "Epoch [4/15], Step [320/374], Loss: 0.2394\n",
            "Epoch [4/15], Step [340/374], Loss: 0.2721\n",
            "Epoch [4/15], Step [360/374], Loss: 0.1467\n",
            "\n",
            "train-loss: 0.4557, train-acc: 94.6841\n",
            "validation loss: 0.3304, validation acc: 95.0856\n",
            "\n",
            "Improvement-Detected, save-model\n",
            "Epoch 5\n",
            "\n",
            "Epoch [5/15], Step [0/374], Loss: 0.0651\n",
            "Epoch [5/15], Step [20/374], Loss: 0.3586\n",
            "Epoch [5/15], Step [40/374], Loss: 0.3627\n",
            "Epoch [5/15], Step [60/374], Loss: 0.2186\n",
            "Epoch [5/15], Step [80/374], Loss: 0.1694\n",
            "Epoch [5/15], Step [100/374], Loss: 0.1777\n",
            "Epoch [5/15], Step [120/374], Loss: 0.1098\n",
            "Epoch [5/15], Step [140/374], Loss: 0.1414\n",
            "Epoch [5/15], Step [160/374], Loss: 0.1906\n",
            "Epoch [5/15], Step [180/374], Loss: 0.1952\n",
            "Epoch [5/15], Step [200/374], Loss: 0.2024\n",
            "Epoch [5/15], Step [220/374], Loss: 0.1001\n",
            "Epoch [5/15], Step [240/374], Loss: 0.1475\n",
            "Epoch [5/15], Step [260/374], Loss: 0.1036\n",
            "Epoch [5/15], Step [280/374], Loss: 0.1255\n",
            "Epoch [5/15], Step [300/374], Loss: 0.0753\n",
            "Epoch [5/15], Step [320/374], Loss: 0.0733\n",
            "Epoch [5/15], Step [340/374], Loss: 0.1447\n",
            "Epoch [5/15], Step [360/374], Loss: 0.0683\n",
            "\n",
            "train-loss: 0.3995, train-acc: 95.3026\n",
            "validation loss: 0.3008, validation acc: 94.7345\n",
            "\n",
            "Epoch 6\n",
            "\n",
            "Epoch [6/15], Step [0/374], Loss: 0.1682\n",
            "Epoch [6/15], Step [20/374], Loss: 0.1107\n",
            "Epoch [6/15], Step [40/374], Loss: 0.2129\n",
            "Epoch [6/15], Step [60/374], Loss: 0.0852\n",
            "Epoch [6/15], Step [80/374], Loss: 0.1034\n",
            "Epoch [6/15], Step [100/374], Loss: 0.1648\n",
            "Epoch [6/15], Step [120/374], Loss: 0.0881\n",
            "Epoch [6/15], Step [140/374], Loss: 0.0767\n",
            "Epoch [6/15], Step [160/374], Loss: 0.1470\n",
            "Epoch [6/15], Step [180/374], Loss: 0.1994\n",
            "Epoch [6/15], Step [200/374], Loss: 0.1033\n",
            "Epoch [6/15], Step [220/374], Loss: 0.1742\n",
            "Epoch [6/15], Step [240/374], Loss: 0.0714\n",
            "Epoch [6/15], Step [260/374], Loss: 0.2867\n",
            "Epoch [6/15], Step [280/374], Loss: 0.0849\n",
            "Epoch [6/15], Step [300/374], Loss: 0.3121\n",
            "Epoch [6/15], Step [320/374], Loss: 0.1850\n",
            "Epoch [6/15], Step [340/374], Loss: 0.1009\n",
            "Epoch [6/15], Step [360/374], Loss: 0.2861\n",
            "\n",
            "train-loss: 0.3570, train-acc: 96.2721\n",
            "validation loss: 0.2729, validation acc: 96.4019\n",
            "\n",
            "Improvement-Detected, save-model\n",
            "Epoch 7\n",
            "\n",
            "Epoch [7/15], Step [0/374], Loss: 0.0387\n",
            "Epoch [7/15], Step [20/374], Loss: 0.2977\n",
            "Epoch [7/15], Step [40/374], Loss: 0.0557\n",
            "Epoch [7/15], Step [60/374], Loss: 0.0579\n",
            "Epoch [7/15], Step [80/374], Loss: 0.0886\n",
            "Epoch [7/15], Step [100/374], Loss: 0.1484\n",
            "Epoch [7/15], Step [120/374], Loss: 0.0845\n",
            "Epoch [7/15], Step [140/374], Loss: 0.1256\n",
            "Epoch [7/15], Step [160/374], Loss: 0.2050\n",
            "Epoch [7/15], Step [180/374], Loss: 0.0744\n",
            "Epoch [7/15], Step [200/374], Loss: 0.2081\n",
            "Epoch [7/15], Step [220/374], Loss: 0.0845\n",
            "Epoch [7/15], Step [240/374], Loss: 0.2527\n",
            "Epoch [7/15], Step [260/374], Loss: 0.0673\n",
            "Epoch [7/15], Step [280/374], Loss: 0.0720\n",
            "Epoch [7/15], Step [300/374], Loss: 0.0975\n",
            "Epoch [7/15], Step [320/374], Loss: 0.1234\n",
            "Epoch [7/15], Step [340/374], Loss: 0.0734\n",
            "Epoch [7/15], Step [360/374], Loss: 0.1516\n",
            "\n",
            "train-loss: 0.3239, train-acc: 96.6901\n",
            "validation loss: 0.2520, validation acc: 96.3581\n",
            "\n",
            "Improvement-Detected, save-model\n",
            "Epoch 8\n",
            "\n",
            "Epoch [8/15], Step [0/374], Loss: 0.1952\n",
            "Epoch [8/15], Step [20/374], Loss: 0.1839\n",
            "Epoch [8/15], Step [40/374], Loss: 0.1598\n",
            "Epoch [8/15], Step [60/374], Loss: 0.0434\n",
            "Epoch [8/15], Step [80/374], Loss: 0.1904\n",
            "Epoch [8/15], Step [100/374], Loss: 0.1239\n",
            "Epoch [8/15], Step [120/374], Loss: 0.0569\n",
            "Epoch [8/15], Step [140/374], Loss: 0.1045\n",
            "Epoch [8/15], Step [160/374], Loss: 0.3246\n",
            "Epoch [8/15], Step [180/374], Loss: 0.0803\n",
            "Epoch [8/15], Step [200/374], Loss: 0.0711\n",
            "Epoch [8/15], Step [220/374], Loss: 0.2049\n",
            "Epoch [8/15], Step [240/374], Loss: 0.1850\n",
            "Epoch [8/15], Step [260/374], Loss: 0.0659\n",
            "Epoch [8/15], Step [280/374], Loss: 0.0749\n",
            "Epoch [8/15], Step [300/374], Loss: 0.0969\n",
            "Epoch [8/15], Step [320/374], Loss: 0.0559\n",
            "Epoch [8/15], Step [340/374], Loss: 0.3270\n",
            "Epoch [8/15], Step [360/374], Loss: 0.0944\n",
            "\n",
            "train-loss: 0.2981, train-acc: 96.7987\n",
            "validation loss: 0.2342, validation acc: 96.9724\n",
            "\n",
            "Improvement-Detected, save-model\n",
            "Epoch 9\n",
            "\n",
            "Epoch [9/15], Step [0/374], Loss: 0.0407\n",
            "Epoch [9/15], Step [20/374], Loss: 0.0600\n",
            "Epoch [9/15], Step [40/374], Loss: 0.0994\n",
            "Epoch [9/15], Step [60/374], Loss: 0.0480\n",
            "Epoch [9/15], Step [80/374], Loss: 0.0695\n",
            "Epoch [9/15], Step [100/374], Loss: 0.0756\n",
            "Epoch [9/15], Step [120/374], Loss: 0.0867\n",
            "Epoch [9/15], Step [140/374], Loss: 0.1179\n",
            "Epoch [9/15], Step [160/374], Loss: 0.1413\n",
            "Epoch [9/15], Step [180/374], Loss: 0.1284\n",
            "Epoch [9/15], Step [200/374], Loss: 0.1613\n",
            "Epoch [9/15], Step [220/374], Loss: 0.2946\n",
            "Epoch [9/15], Step [240/374], Loss: 0.0587\n",
            "Epoch [9/15], Step [260/374], Loss: 0.2651\n",
            "Epoch [9/15], Step [280/374], Loss: 0.0834\n",
            "Epoch [9/15], Step [300/374], Loss: 0.1134\n",
            "Epoch [9/15], Step [320/374], Loss: 0.0597\n",
            "Epoch [9/15], Step [340/374], Loss: 0.1284\n",
            "Epoch [9/15], Step [360/374], Loss: 0.0461\n",
            "\n",
            "train-loss: 0.2768, train-acc: 97.1581\n",
            "validation loss: 0.2195, validation acc: 97.0601\n",
            "\n",
            "Improvement-Detected, save-model\n",
            "Epoch 10\n",
            "\n",
            "Epoch [10/15], Step [0/374], Loss: 0.0707\n",
            "Epoch [10/15], Step [20/374], Loss: 0.1785\n",
            "Epoch [10/15], Step [40/374], Loss: 0.1659\n",
            "Epoch [10/15], Step [60/374], Loss: 0.1289\n",
            "Epoch [10/15], Step [80/374], Loss: 0.1329\n",
            "Epoch [10/15], Step [100/374], Loss: 0.0499\n",
            "Epoch [10/15], Step [120/374], Loss: 0.0683\n",
            "Epoch [10/15], Step [140/374], Loss: 0.1520\n",
            "Epoch [10/15], Step [160/374], Loss: 0.0426\n",
            "Epoch [10/15], Step [180/374], Loss: 0.0657\n",
            "Epoch [10/15], Step [200/374], Loss: 0.0404\n",
            "Epoch [10/15], Step [220/374], Loss: 0.1242\n",
            "Epoch [10/15], Step [240/374], Loss: 0.0314\n",
            "Epoch [10/15], Step [260/374], Loss: 0.2948\n",
            "Epoch [10/15], Step [280/374], Loss: 0.1651\n",
            "Epoch [10/15], Step [300/374], Loss: 0.0538\n",
            "Epoch [10/15], Step [320/374], Loss: 0.0663\n",
            "Epoch [10/15], Step [340/374], Loss: 0.0869\n",
            "Epoch [10/15], Step [360/374], Loss: 0.1372\n",
            "\n",
            "train-loss: 0.2591, train-acc: 97.2668\n",
            "validation loss: 0.2072, validation acc: 97.2356\n",
            "\n",
            "Improvement-Detected, save-model\n",
            "Epoch 11\n",
            "\n",
            "Epoch [11/15], Step [0/374], Loss: 0.0580\n",
            "Epoch [11/15], Step [20/374], Loss: 0.0332\n",
            "Epoch [11/15], Step [40/374], Loss: 0.0403\n",
            "Epoch [11/15], Step [60/374], Loss: 0.0899\n",
            "Epoch [11/15], Step [80/374], Loss: 0.2268\n",
            "Epoch [11/15], Step [100/374], Loss: 0.0548\n",
            "Epoch [11/15], Step [120/374], Loss: 0.1120\n",
            "Epoch [11/15], Step [140/374], Loss: 0.2111\n",
            "Epoch [11/15], Step [160/374], Loss: 0.0312\n",
            "Epoch [11/15], Step [180/374], Loss: 0.0486\n",
            "Epoch [11/15], Step [200/374], Loss: 0.0477\n",
            "Epoch [11/15], Step [220/374], Loss: 0.1877\n",
            "Epoch [11/15], Step [240/374], Loss: 0.0557\n",
            "Epoch [11/15], Step [260/374], Loss: 0.1354\n",
            "Epoch [11/15], Step [280/374], Loss: 0.0600\n",
            "Epoch [11/15], Step [300/374], Loss: 0.0893\n",
            "Epoch [11/15], Step [320/374], Loss: 0.0429\n",
            "Epoch [11/15], Step [340/374], Loss: 0.0161\n",
            "Epoch [11/15], Step [360/374], Loss: 0.1522\n",
            "\n",
            "train-loss: 0.2434, train-acc: 97.7265\n",
            "validation loss: 0.1980, validation acc: 96.5336\n",
            "\n",
            "Epoch 12\n",
            "\n",
            "Epoch [12/15], Step [0/374], Loss: 0.0951\n",
            "Epoch [12/15], Step [20/374], Loss: 0.1048\n",
            "Epoch [12/15], Step [40/374], Loss: 0.1901\n",
            "Epoch [12/15], Step [60/374], Loss: 0.1929\n",
            "Epoch [12/15], Step [80/374], Loss: 0.0375\n",
            "Epoch [12/15], Step [100/374], Loss: 0.0375\n",
            "Epoch [12/15], Step [120/374], Loss: 0.0567\n",
            "Epoch [12/15], Step [140/374], Loss: 0.0252\n",
            "Epoch [12/15], Step [160/374], Loss: 0.0383\n",
            "Epoch [12/15], Step [180/374], Loss: 0.0764\n",
            "Epoch [12/15], Step [200/374], Loss: 0.2256\n",
            "Epoch [12/15], Step [220/374], Loss: 0.0496\n",
            "Epoch [12/15], Step [240/374], Loss: 0.0578\n",
            "Epoch [12/15], Step [260/374], Loss: 0.0648\n",
            "Epoch [12/15], Step [280/374], Loss: 0.1580\n",
            "Epoch [12/15], Step [300/374], Loss: 0.0431\n",
            "Epoch [12/15], Step [320/374], Loss: 0.1109\n",
            "Epoch [12/15], Step [340/374], Loss: 0.0622\n",
            "Epoch [12/15], Step [360/374], Loss: 0.0496\n",
            "\n",
            "train-loss: 0.2301, train-acc: 97.8602\n",
            "validation loss: 0.1932, validation acc: 96.5336\n",
            "\n",
            "Epoch 13\n",
            "\n",
            "Epoch [13/15], Step [0/374], Loss: 0.0603\n",
            "Epoch [13/15], Step [20/374], Loss: 0.0178\n",
            "Epoch [13/15], Step [40/374], Loss: 0.0776\n",
            "Epoch [13/15], Step [60/374], Loss: 0.0441\n",
            "Epoch [13/15], Step [80/374], Loss: 0.0737\n",
            "Epoch [13/15], Step [100/374], Loss: 0.0283\n",
            "Epoch [13/15], Step [120/374], Loss: 0.0298\n",
            "Epoch [13/15], Step [140/374], Loss: 0.1471\n",
            "Epoch [13/15], Step [160/374], Loss: 0.0319\n",
            "Epoch [13/15], Step [180/374], Loss: 0.0411\n",
            "Epoch [13/15], Step [200/374], Loss: 0.1044\n",
            "Epoch [13/15], Step [220/374], Loss: 0.0572\n",
            "Epoch [13/15], Step [240/374], Loss: 0.1292\n",
            "Epoch [13/15], Step [260/374], Loss: 0.0723\n",
            "Epoch [13/15], Step [280/374], Loss: 0.0415\n",
            "Epoch [13/15], Step [300/374], Loss: 0.0943\n",
            "Epoch [13/15], Step [320/374], Loss: 0.0967\n",
            "Epoch [13/15], Step [340/374], Loss: 0.1840\n",
            "Epoch [13/15], Step [360/374], Loss: 0.0276\n",
            "\n",
            "train-loss: 0.2180, train-acc: 98.0358\n",
            "validation loss: 0.1865, validation acc: 96.5774\n",
            "\n",
            "Epoch 14\n",
            "\n",
            "Epoch [14/15], Step [0/374], Loss: 0.0490\n",
            "Epoch [14/15], Step [20/374], Loss: 0.0300\n",
            "Epoch [14/15], Step [40/374], Loss: 0.0379\n",
            "Epoch [14/15], Step [60/374], Loss: 0.1514\n",
            "Epoch [14/15], Step [80/374], Loss: 0.0227\n",
            "Epoch [14/15], Step [100/374], Loss: 0.0442\n",
            "Epoch [14/15], Step [120/374], Loss: 0.0340\n",
            "Epoch [14/15], Step [140/374], Loss: 0.0451\n",
            "Epoch [14/15], Step [160/374], Loss: 0.0328\n",
            "Epoch [14/15], Step [180/374], Loss: 0.0250\n",
            "Epoch [14/15], Step [200/374], Loss: 0.0565\n",
            "Epoch [14/15], Step [220/374], Loss: 0.0629\n",
            "Epoch [14/15], Step [240/374], Loss: 0.0493\n",
            "Epoch [14/15], Step [260/374], Loss: 0.0357\n",
            "Epoch [14/15], Step [280/374], Loss: 0.0574\n",
            "Epoch [14/15], Step [300/374], Loss: 0.0773\n",
            "Epoch [14/15], Step [320/374], Loss: 0.0329\n",
            "Epoch [14/15], Step [340/374], Loss: 0.0172\n",
            "Epoch [14/15], Step [360/374], Loss: 0.1174\n",
            "\n",
            "train-loss: 0.2074, train-acc: 98.2113\n",
            "validation loss: 0.1792, validation acc: 97.8061\n",
            "\n",
            "Improvement-Detected, save-model\n",
            "Epoch 15\n",
            "\n",
            "Epoch [15/15], Step [0/374], Loss: 0.0419\n",
            "Epoch [15/15], Step [20/374], Loss: 0.0324\n",
            "Epoch [15/15], Step [40/374], Loss: 0.0401\n",
            "Epoch [15/15], Step [60/374], Loss: 0.0267\n",
            "Epoch [15/15], Step [80/374], Loss: 0.1895\n",
            "Epoch [15/15], Step [100/374], Loss: 0.0600\n",
            "Epoch [15/15], Step [120/374], Loss: 0.0372\n",
            "Epoch [15/15], Step [140/374], Loss: 0.0212\n",
            "Epoch [15/15], Step [160/374], Loss: 0.0260\n",
            "Epoch [15/15], Step [180/374], Loss: 0.0309\n",
            "Epoch [15/15], Step [200/374], Loss: 0.1257\n",
            "Epoch [15/15], Step [220/374], Loss: 0.0889\n",
            "Epoch [15/15], Step [240/374], Loss: 0.0437\n",
            "Epoch [15/15], Step [260/374], Loss: 0.1732\n",
            "Epoch [15/15], Step [280/374], Loss: 0.1282\n",
            "Epoch [15/15], Step [300/374], Loss: 0.1008\n",
            "Epoch [15/15], Step [320/374], Loss: 0.1335\n",
            "Epoch [15/15], Step [340/374], Loss: 0.0409\n",
            "Epoch [15/15], Step [360/374], Loss: 0.1207\n",
            "\n",
            "train-loss: 0.1978, train-acc: 98.5456\n",
            "validation loss: 0.1722, validation acc: 97.8061\n",
            "\n",
            "Improvement-Detected, save-model\n"
          ],
          "name": "stdout"
        }
      ]
    },
    {
      "cell_type": "markdown",
      "metadata": {
        "id": "9_D-b3X_vHpK"
      },
      "source": [
        "# 20 Epochs"
      ]
    },
    {
      "cell_type": "code",
      "metadata": {
        "colab": {
          "base_uri": "https://localhost:8080/"
        },
        "id": "xewNLh1_vLO4",
        "outputId": "45c7dc76-0687-4880-e7b8-d16f65d3cad1"
      },
      "source": [
        "loss_history, val_loss_history, train_acc, val_acc = train_model(20, 40)"
      ],
      "execution_count": null,
      "outputs": [
        {
          "output_type": "stream",
          "text": [
            "Epoch 1\n",
            "\n",
            "Epoch [1/20], Step [0/97], Loss: 1.3571\n",
            "Epoch [1/20], Step [40/97], Loss: 0.7225\n",
            "Epoch [1/20], Step [80/97], Loss: 0.5616\n",
            "\n",
            "train-loss: 0.7599, train-acc: 64.7860\n",
            "validation loss: 0.5710, validation acc: 75.2962\n",
            "\n",
            "Improvement-Detected, save-model\n",
            "Epoch 2\n",
            "\n",
            "Epoch [2/20], Step [0/97], Loss: 0.6049\n",
            "Epoch [2/20], Step [40/97], Loss: 0.4452\n",
            "Epoch [2/20], Step [80/97], Loss: 0.4445\n",
            "\n",
            "train-loss: 0.6263, train-acc: 81.5028\n",
            "validation loss: 0.5002, validation acc: 85.0812\n",
            "\n",
            "Improvement-Detected, save-model\n",
            "Epoch 3\n",
            "\n",
            "Epoch [3/20], Step [0/97], Loss: 0.4110\n",
            "Epoch [3/20], Step [40/97], Loss: 0.3868\n",
            "Epoch [3/20], Step [80/97], Loss: 0.3208\n",
            "\n",
            "train-loss: 0.5438, train-acc: 87.9806\n",
            "validation loss: 0.4479, validation acc: 89.6446\n",
            "\n",
            "Improvement-Detected, save-model\n",
            "Epoch 4\n",
            "\n",
            "Epoch [4/20], Step [0/97], Loss: 0.3894\n",
            "Epoch [4/20], Step [40/97], Loss: 0.3128\n",
            "Epoch [4/20], Step [80/97], Loss: 0.3269\n",
            "\n",
            "train-loss: 0.4844, train-acc: 90.8893\n",
            "validation loss: 0.4074, validation acc: 91.6191\n",
            "\n",
            "Improvement-Detected, save-model\n",
            "Epoch 5\n",
            "\n",
            "Epoch [5/20], Step [0/97], Loss: 0.3160\n",
            "Epoch [5/20], Step [40/97], Loss: 0.2535\n",
            "Epoch [5/20], Step [80/97], Loss: 0.2534\n",
            "\n",
            "train-loss: 0.4386, train-acc: 92.4691\n",
            "validation loss: 0.3751, validation acc: 92.9355\n",
            "\n",
            "Improvement-Detected, save-model\n",
            "Epoch 6\n",
            "\n",
            "Epoch [6/20], Step [0/97], Loss: 0.2507\n",
            "Epoch [6/20], Step [40/97], Loss: 0.1765\n",
            "Epoch [6/20], Step [80/97], Loss: 0.2486\n",
            "\n",
            "train-loss: 0.4020, train-acc: 93.4470\n",
            "validation loss: 0.3483, validation acc: 93.4620\n",
            "\n",
            "Improvement-Detected, save-model\n",
            "Epoch 7\n",
            "\n",
            "Epoch [7/20], Step [0/97], Loss: 0.1901\n",
            "Epoch [7/20], Step [40/97], Loss: 0.1584\n",
            "Epoch [7/20], Step [80/97], Loss: 0.1470\n",
            "\n",
            "train-loss: 0.3719, train-acc: 94.2828\n",
            "validation loss: 0.3258, validation acc: 94.0763\n",
            "\n",
            "Improvement-Detected, save-model\n",
            "Epoch 8\n",
            "\n",
            "Epoch [8/20], Step [0/97], Loss: 0.1983\n",
            "Epoch [8/20], Step [40/97], Loss: 0.1662\n",
            "Epoch [8/20], Step [80/97], Loss: 0.2082\n",
            "\n",
            "train-loss: 0.3466, train-acc: 94.9264\n",
            "validation loss: 0.3069, validation acc: 94.4713\n",
            "\n",
            "Improvement-Detected, save-model\n",
            "Epoch 9\n",
            "\n",
            "Epoch [9/20], Step [0/97], Loss: 0.1670\n",
            "Epoch [9/20], Step [40/97], Loss: 0.1718\n",
            "Epoch [9/20], Step [80/97], Loss: 0.1210\n",
            "\n",
            "train-loss: 0.3249, train-acc: 95.5868\n",
            "validation loss: 0.2912, validation acc: 94.6907\n",
            "\n",
            "Improvement-Detected, save-model\n",
            "Epoch 10\n",
            "\n",
            "Epoch [10/20], Step [0/97], Loss: 0.1505\n",
            "Epoch [10/20], Step [40/97], Loss: 0.0927\n",
            "Epoch [10/20], Step [80/97], Loss: 0.1741\n",
            "\n",
            "train-loss: 0.3063, train-acc: 96.0465\n",
            "validation loss: 0.2770, validation acc: 95.2611\n",
            "\n",
            "Improvement-Detected, save-model\n",
            "Epoch 11\n",
            "\n",
            "Epoch [11/20], Step [0/97], Loss: 0.1039\n",
            "Epoch [11/20], Step [40/97], Loss: 0.1328\n",
            "Epoch [11/20], Step [80/97], Loss: 0.1195\n",
            "\n",
            "train-loss: 0.2900, train-acc: 96.1718\n",
            "validation loss: 0.2645, validation acc: 95.6999\n",
            "\n",
            "Improvement-Detected, save-model\n",
            "Epoch 12\n",
            "\n",
            "Epoch [12/20], Step [0/97], Loss: 0.1255\n",
            "Epoch [12/20], Step [40/97], Loss: 0.0774\n",
            "Epoch [12/20], Step [80/97], Loss: 0.1404\n",
            "\n",
            "train-loss: 0.2758, train-acc: 96.4644\n",
            "validation loss: 0.2534, validation acc: 95.8754\n",
            "\n",
            "Improvement-Detected, save-model\n",
            "Epoch 13\n",
            "\n",
            "Epoch [13/20], Step [0/97], Loss: 0.1081\n",
            "Epoch [13/20], Step [40/97], Loss: 0.1079\n",
            "Epoch [13/20], Step [80/97], Loss: 0.1186\n",
            "\n",
            "train-loss: 0.2629, train-acc: 96.9492\n",
            "validation loss: 0.2433, validation acc: 96.0070\n",
            "\n",
            "Improvement-Detected, save-model\n",
            "Epoch 14\n",
            "\n",
            "Epoch [14/20], Step [0/97], Loss: 0.1343\n",
            "Epoch [14/20], Step [40/97], Loss: 0.1295\n",
            "Epoch [14/20], Step [80/97], Loss: 0.0953\n",
            "\n",
            "train-loss: 0.2515, train-acc: 96.9492\n",
            "validation loss: 0.2343, validation acc: 96.3581\n",
            "\n",
            "Improvement-Detected, save-model\n",
            "Epoch 15\n",
            "\n",
            "Epoch [15/20], Step [0/97], Loss: 0.1300\n",
            "Epoch [15/20], Step [40/97], Loss: 0.0671\n",
            "Epoch [15/20], Step [80/97], Loss: 0.0745\n",
            "\n",
            "train-loss: 0.2411, train-acc: 97.2835\n",
            "validation loss: 0.2262, validation acc: 96.4458\n",
            "\n",
            "Improvement-Detected, save-model\n",
            "Epoch 16\n",
            "\n",
            "Epoch [16/20], Step [0/97], Loss: 0.0620\n",
            "Epoch [16/20], Step [40/97], Loss: 0.0738\n",
            "Epoch [16/20], Step [80/97], Loss: 0.0990\n",
            "\n",
            "train-loss: 0.2317, train-acc: 97.4507\n",
            "validation loss: 0.2187, validation acc: 96.5336\n",
            "\n",
            "Improvement-Detected, save-model\n",
            "Epoch 17\n",
            "\n",
            "Epoch [17/20], Step [0/97], Loss: 0.1027\n",
            "Epoch [17/20], Step [40/97], Loss: 0.0869\n",
            "Epoch [17/20], Step [80/97], Loss: 0.1094\n",
            "\n",
            "train-loss: 0.2229, train-acc: 97.6931\n",
            "validation loss: 0.2120, validation acc: 96.7968\n",
            "\n",
            "Improvement-Detected, save-model\n",
            "Epoch 18\n",
            "\n",
            "Epoch [18/20], Step [0/97], Loss: 0.0429\n",
            "Epoch [18/20], Step [40/97], Loss: 0.0887\n",
            "Epoch [18/20], Step [80/97], Loss: 0.0959\n",
            "\n",
            "train-loss: 0.2150, train-acc: 97.8770\n",
            "validation loss: 0.2058, validation acc: 96.8846\n",
            "\n",
            "Improvement-Detected, save-model\n",
            "Epoch 19\n",
            "\n",
            "Epoch [19/20], Step [0/97], Loss: 0.1198\n",
            "Epoch [19/20], Step [40/97], Loss: 0.0711\n",
            "Epoch [19/20], Step [80/97], Loss: 0.0546\n",
            "\n",
            "train-loss: 0.2077, train-acc: 97.9522\n",
            "validation loss: 0.2001, validation acc: 96.9285\n",
            "\n",
            "Improvement-Detected, save-model\n",
            "Epoch 20\n",
            "\n",
            "Epoch [20/20], Step [0/97], Loss: 0.0698\n",
            "Epoch [20/20], Step [40/97], Loss: 0.0561\n",
            "Epoch [20/20], Step [80/97], Loss: 0.0512\n",
            "\n",
            "train-loss: 0.2010, train-acc: 97.9020\n",
            "validation loss: 0.1948, validation acc: 96.8846\n",
            "\n",
            "Improvement-Detected, save-model\n"
          ],
          "name": "stdout"
        }
      ]
    },
    {
      "cell_type": "code",
      "metadata": {
        "colab": {
          "base_uri": "https://localhost:8080/",
          "height": 513
        },
        "id": "r5qPTPap4WzT",
        "outputId": "6d91553a-def4-43ab-9d00-dc57e5f0e22e"
      },
      "source": [
        "plt.plot(loss_history,label='Training Loss')  \n",
        "plt.plot(val_loss_history,label='Validation Loss')  \n",
        "plt.legend()  \n",
        "plt.show()  \n",
        "plt.plot(train_acc,label='Training accuracy')  \n",
        "plt.plot(val_acc,label='Validation accuracy')  \n",
        "plt.legend()  \n",
        "plt.show()"
      ],
      "execution_count": null,
      "outputs": [
        {
          "output_type": "display_data",
          "data": {
            "image/png": "[encoded data removed]",
            "text/plain": [
              "<Figure size 432x288 with 1 Axes>"
            ]
          },
          "metadata": {
            "tags": [],
            "image/png": {
              "width": 372,
              "height": 248
            },
            "needs_background": "light"
          }
        },
        {
          "output_type": "display_data",
          "data": {
            "image/png": "[encoded data removed]",
            "text/plain": [
              "<Figure size 432x288 with 1 Axes>"
            ]
          },
          "metadata": {
            "tags": [],
            "image/png": {
              "width": 369,
              "height": 248
            },
            "needs_background": "light"
          }
        }
      ]
    },
    {
      "cell_type": "code",
      "metadata": {
        "colab": {
          "base_uri": "https://localhost:8080/",
          "height": 198
        },
        "id": "Lipf18Fz4rEt",
        "outputId": "87553748-861f-42c7-95f2-2f1cae0bb838"
      },
      "source": [
        "plt.figure(figsize=(6,6))\n",
        "plot_confusion_matrix(all_preds, all_labels, test_dataset.classes)"
      ],
      "execution_count": null,
      "outputs": [
        {
          "output_type": "error",
          "ename": "NameError",
          "evalue": "ignored",
          "traceback": [
            "\u001b[0;31m---------------------------------------------------------------------------\u001b[0m",
            "\u001b[0;31mNameError\u001b[0m                                 Traceback (most recent call last)",
            "\u001b[0;32m<ipython-input-28-b7f492bcd5a4>\u001b[0m in \u001b[0;36m<module>\u001b[0;34m()\u001b[0m\n\u001b[1;32m      1\u001b[0m \u001b[0mplt\u001b[0m\u001b[0;34m.\u001b[0m\u001b[0mfigure\u001b[0m\u001b[0;34m(\u001b[0m\u001b[0mfigsize\u001b[0m\u001b[0;34m=\u001b[0m\u001b[0;34m(\u001b[0m\u001b[0;36m6\u001b[0m\u001b[0;34m,\u001b[0m\u001b[0;36m6\u001b[0m\u001b[0;34m)\u001b[0m\u001b[0;34m)\u001b[0m\u001b[0;34m\u001b[0m\u001b[0;34m\u001b[0m\u001b[0m\n\u001b[0;32m----> 2\u001b[0;31m \u001b[0mplot_confusion_matrix\u001b[0m\u001b[0;34m(\u001b[0m\u001b[0mall_preds\u001b[0m\u001b[0;34m,\u001b[0m \u001b[0mall_labels\u001b[0m\u001b[0;34m,\u001b[0m \u001b[0mtest_dataset\u001b[0m\u001b[0;34m.\u001b[0m\u001b[0mclasses\u001b[0m\u001b[0;34m)\u001b[0m\u001b[0;34m\u001b[0m\u001b[0;34m\u001b[0m\u001b[0m\n\u001b[0m",
            "\u001b[0;31mNameError\u001b[0m: name 'all_preds' is not defined"
          ]
        },
        {
          "output_type": "display_data",
          "data": {
            "text/plain": [
              "<Figure size 432x432 with 0 Axes>"
            ]
          },
          "metadata": {
            "tags": []
          }
        }
      ]
    },
    {
      "cell_type": "code",
      "metadata": {
        "id": "RC1XTfN24-uV"
      },
      "source": [
        ""
      ],
      "execution_count": null,
      "outputs": []
    },
    {
      "cell_type": "code",
      "metadata": {
        "id": "MCqcO-zg7RKW"
      },
      "source": [
        ""
      ],
      "execution_count": null,
      "outputs": []
    }
  ]
}