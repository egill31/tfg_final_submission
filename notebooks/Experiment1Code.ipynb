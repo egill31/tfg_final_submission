{
  "nbformat": 4,
  "nbformat_minor": 0,
  "metadata": {
    "colab": {
      "name": "Experiment1Code.ipynb",
      "provenance": [],
      "collapsed_sections": []
    },
    "kernelspec": {
      "name": "python3",
      "display_name": "Python 3"
    },
    "language_info": {
      "name": "python"
    },
    "accelerator": "GPU"
  },
  "cells": [
    {
      "cell_type": "code",
      "metadata": {
        "id": "yrIUhB8TeO6L"
      },
      "source": [
        ""
      ],
      "execution_count": null,
      "outputs": []
    },
    {
      "cell_type": "code",
      "metadata": {
        "colab": {
          "base_uri": "https://localhost:8080/"
        },
        "id": "ympwvmZRGQqN",
        "outputId": "1b922b5e-9f2d-4041-bda0-2315d496f4eb"
      },
      "source": [
        "import numpy as np # linear algebra\n",
        "import pandas as pd # data processing, CSV file I/O (e.g. pd.read_csv)\n",
        "import cv2\n",
        "%matplotlib inline\n",
        "%config InlineBackend.figure_format = 'retina'\n",
        "import matplotlib.pyplot as plt\n",
        "from sklearn.metrics import f1_score, confusion_matrix\n",
        "import itertools\n",
        "import torch\n",
        "import torch.nn as nn\n",
        "import torch.optim as optim\n",
        "\n",
        "import torchvision\n",
        "import torch.nn.functional as F\n",
        "from torchvision import datasets, transforms, models\n",
        "import torchvision.transforms as transforms\n",
        "\n",
        "from torch.autograd import Variable\n",
        "from torch.utils.data import Dataset, DataLoader\n",
        "\n",
        "from sklearn import metrics\n",
        "from sklearn.model_selection import train_test_split\n",
        "\n",
        "import os\n",
        "\n",
        "import datetime\n",
        "\n",
        "import seaborn as sns\n",
        "from tqdm.notebook import tqdm\n",
        "torch.manual_seed(17)"
      ],
      "execution_count": null,
      "outputs": [
        {
          "output_type": "execute_result",
          "data": {
            "text/plain": [
              "<torch._C.Generator at 0x7f070e5151f0>"
            ]
          },
          "metadata": {
            "tags": []
          },
          "execution_count": 1
        }
      ]
    },
    {
      "cell_type": "code",
      "metadata": {
        "colab": {
          "base_uri": "https://localhost:8080/"
        },
        "id": "cmu54zY1GtRJ",
        "outputId": "ccfeb201-c290-4b06-a92f-c22566264f71"
      },
      "source": [
        "from google.colab import drive\n",
        "drive.mount('/content/drive')"
      ],
      "execution_count": null,
      "outputs": [
        {
          "output_type": "stream",
          "text": [
            "Mounted at /content/drive\n"
          ],
          "name": "stdout"
        }
      ]
    },
    {
      "cell_type": "code",
      "metadata": {
        "id": "hlbDjYcJGvbH"
      },
      "source": [
        "dir_path = \"/content/drive/MyDrive/COVID-19_Radiography_Dataset/\""
      ],
      "execution_count": null,
      "outputs": []
    },
    {
      "cell_type": "code",
      "metadata": {
        "id": "XfVF2WSXG4Jr"
      },
      "source": [
        "train_path = \"/content/drive/MyDrive/COVID-19_Radiography_Dataset/split_images/train\"\n",
        "val_path = \"/content/drive/MyDrive/COVID-19_Radiography_Dataset/split_images/val\"\n",
        "test_path = \"/content/drive/MyDrive/COVID-19_Radiography_Dataset/split_images/test\""
      ],
      "execution_count": null,
      "outputs": []
    },
    {
      "cell_type": "code",
      "metadata": {
        "id": "eihNwI27G77m"
      },
      "source": [
        "image_transforms = {\n",
        "    \"train\": transforms.Compose([\n",
        "        transforms.Resize((299, 299)),\n",
        "        transforms.ToTensor(),\n",
        "        transforms.Normalize((0.5,0.5,0.5),(0.5,0.5,0.5))\n",
        "    ])\n",
        "}"
      ],
      "execution_count": null,
      "outputs": []
    },
    {
      "cell_type": "code",
      "metadata": {
        "id": "PUDrbpyUG99F"
      },
      "source": [
        "train_dataset = datasets.ImageFolder(\n",
        "                              root = train_path,\n",
        "                              transform = image_transforms[\"train\"]\n",
        "                       )\n",
        "\n",
        "val_dataset = datasets.ImageFolder(\n",
        "                              root = val_path,\n",
        "                              transform = image_transforms[\"train\"]\n",
        "                       )\n",
        "\n",
        "test_dataset = datasets.ImageFolder(\n",
        "                              root = test_path,\n",
        "                              transform = image_transforms[\"train\"]\n",
        "                       )"
      ],
      "execution_count": null,
      "outputs": []
    },
    {
      "cell_type": "code",
      "metadata": {
        "colab": {
          "base_uri": "https://localhost:8080/"
        },
        "id": "KIrfyYeDHAVf",
        "outputId": "86ee09cb-02f2-4150-e178-53ae33d31bb7"
      },
      "source": [
        "print(\"Training length: \", len(train_dataset))\n",
        "print(\"Validation length: \", len(val_dataset))\n",
        "print(\"Testing length: \", len(test_dataset))"
      ],
      "execution_count": null,
      "outputs": [
        {
          "output_type": "stream",
          "text": [
            "Training length:  11964\n",
            "Validation length:  2279\n",
            "Testing length:  910\n"
          ],
          "name": "stdout"
        }
      ]
    },
    {
      "cell_type": "code",
      "metadata": {
        "id": "ScuF_XekHCuW"
      },
      "source": [
        "train_idx2class = {v: k for k, v in train_dataset.class_to_idx.items()}\n",
        "val_idx2class = {v: k for k, v in val_dataset.class_to_idx.items()}\n",
        "test_idx2class = {v: k for k, v in test_dataset.class_to_idx.items()}"
      ],
      "execution_count": null,
      "outputs": []
    },
    {
      "cell_type": "code",
      "metadata": {
        "id": "0iQbiA36HHLn"
      },
      "source": [
        "def get_class_distribution(dataset_obj, idx2class):\n",
        "    count_dict = {k:0 for k,v in dataset_obj.class_to_idx.items()}\n",
        "    \n",
        "    for element in dataset_obj:\n",
        "        y_lbl = element[1]\n",
        "        y_lbl = idx2class[y_lbl]\n",
        "        count_dict[y_lbl] += 1\n",
        "            \n",
        "    return count_dict\n"
      ],
      "execution_count": null,
      "outputs": []
    },
    {
      "cell_type": "code",
      "metadata": {
        "id": "V3zUC64FnGit"
      },
      "source": [
        "train_dist = get_class_distribution(train_dataset, train_idx2class)\n",
        "val_dist = get_class_distribution(val_dataset, val_idx2class)\n",
        "test_dist = get_class_distribution(test_dataset, test_idx2class)"
      ],
      "execution_count": null,
      "outputs": []
    },
    {
      "cell_type": "code",
      "metadata": {
        "colab": {
          "base_uri": "https://localhost:8080/",
          "height": 474
        },
        "id": "hkRwkgAUHIG3",
        "outputId": "e20d9ac8-0cca-433c-e447-021760ccc3b5"
      },
      "source": [
        "fig, axes = plt.subplots(nrows=1, ncols=3, figsize=(18,7))\n",
        "\n",
        "sns.barplot(data = pd.DataFrame.from_dict([train_dist]).melt(), x = \"variable\", y=\"value\", hue=\"variable\", ax=axes[0]).set_title('Train Set Class Distribution')\n",
        "\n",
        "sns.barplot(data = pd.DataFrame.from_dict([val_dist]).melt(), x = \"variable\", y=\"value\", hue=\"variable\",ax=axes[1]).set_title('Val Set Class Distribution')\n",
        "\n",
        "sns.barplot(data = pd.DataFrame.from_dict([test_dist]).melt(), x = \"variable\", y=\"value\", hue=\"variable\",ax=axes[2]).set_title('Train Set Class Distribution')"
      ],
      "execution_count": null,
      "outputs": [
        {
          "output_type": "execute_result",
          "data": {
            "text/plain": [
              "Text(0.5, 1.0, 'Train Set Class Distribution')"
            ]
          },
          "metadata": {
            "tags": []
          },
          "execution_count": 11
        },
        {
          "output_type": "display_data",
          "data": {
            "image/png": "[encoded data removed]",
            "text/plain": [
              "<Figure size 1296x504 with 3 Axes>"
            ]
          },
          "metadata": {
            "tags": [],
            "image/png": {
              "width": 1064,
              "height": 440
            },
            "needs_background": "light"
          }
        }
      ]
    },
    {
      "cell_type": "code",
      "metadata": {
        "id": "zrf77OSWngAW"
      },
      "source": [
        "fig, axes = plt.subplots(nrows=1, ncols=3, figsize=(18,7))\n",
        "\n",
        "train = sns.barplot(data = pd.DataFrame.from_dict([train_dist]).melt(), x = \"variable\", y=\"value\",  ax=axes[0], palette=sns.color_palette(\"Paired\")).set_title('Train Set Class Distribution')\n",
        "train.xlabel(\"Class\", size=10)\n",
        "train.ylabel(\"Quantity\", size=10)\n",
        "\n",
        "valid = sns.barplot(data = pd.DataFrame.from_dict([val_dist]).melt(), x = \"variable\", y=\"value\", ax=axes[1], palette=sns.color_palette(\"Paired\")).set_title('Val Set Class Distribution')\n",
        "valid.xlabel(\"Class\", size=10)\n",
        "valid.ylabel(\"Quantity\", size=10)\n",
        "\n",
        "test = sns.barplot(data = pd.DataFrame.from_dict([test_dist]).melt(), x = \"variable\", y=\"value\", ax=axes[2], palette=sns.color_palette(\"Paired\")).set_title('Train Set Class Distribution')\n",
        "test.xlabel(\"Class\", size=10)\n",
        "test.ylabel(\"Quantity\", size=10)"
      ],
      "execution_count": null,
      "outputs": []
    },
    {
      "cell_type": "code",
      "metadata": {
        "id": "NfsKvjlmlBBs"
      },
      "source": [
        "# Functions to create confusion matrix\n",
        "\n",
        "def get_confusion_tensor(preds, targets):\n",
        "  stacked = torch.stack(\n",
        "      (\n",
        "          torch.cat(targets, dim=0)\n",
        "          ,torch.cat(preds, dim=0)\n",
        "      )\n",
        "      ,dim=1\n",
        "  )\n",
        "  cmt = torch.zeros(3,3, dtype=torch.int64)\n",
        "  for p in stacked:\n",
        "      tl, pl = p.tolist()\n",
        "      cmt[int(tl), int(pl)] = cmt[int(tl), int(pl)] + 1\n",
        "  return cmt\n",
        "\n",
        "def plot_confusion_matrix(preds, targets, classes, normalize=False, title='Confusion matrix', cmap=plt.cm.Blues):\n",
        "  cm = get_confusion_tensor(preds, targets)\n",
        "\n",
        "  print(cm)\n",
        "  plt.imshow(cm, interpolation='nearest', cmap=cmap)\n",
        "  plt.title(title)\n",
        "  plt.colorbar()\n",
        "  tick_marks = np.arange(len(classes))\n",
        "  plt.xticks(tick_marks, classes, rotation=45, fontsize='large')\n",
        "  plt.yticks(tick_marks, classes, fontsize='large')\n",
        "\n",
        "  fmt = '.2f' if normalize else 'd'\n",
        "  thresh = cm.max() / 2.\n",
        "  for i, j in itertools.product(range(cm.shape[0]), range(cm.shape[1])):\n",
        "      plt.text(j, i, format(cm[i, j], fmt), horizontalalignment=\"center\", fontsize='large', color=\"white\" if cm[i, j] > thresh else \"black\")\n",
        "\n",
        "  plt.tight_layout()\n",
        "  plt.ylabel('True label')\n",
        "  plt.xlabel('Predicted label')"
      ],
      "execution_count": null,
      "outputs": []
    },
    {
      "cell_type": "code",
      "metadata": {
        "id": "oN1syr6gHLHB"
      },
      "source": [
        "dataloader_train = torch.utils.data.DataLoader(train_dataset, batch_size=32, shuffle=True)\n",
        "dataloader_valid = torch.utils.data.DataLoader(val_dataset, batch_size=32, shuffle=True)\n",
        "dataloader_test = torch.utils.data.DataLoader(test_dataset, batch_size=32, shuffle=True)"
      ],
      "execution_count": null,
      "outputs": []
    },
    {
      "cell_type": "markdown",
      "metadata": {
        "id": "R-iT022dfcSh"
      },
      "source": [
        "# Three Conv-pool doubling filters"
      ]
    },
    {
      "cell_type": "code",
      "metadata": {
        "id": "iNmxye3DfVXe"
      },
      "source": [
        "#torch.nn.Conv2d(in_channels, out_channels, kernel_size, stride=1, padding=0, \n",
        "#                 dilation=1, groups=1, bias=True, padding_mode='zeros')\n",
        "\n",
        "class Net(nn.Module):\n",
        "    def __init__(self):\n",
        "        super(Net, self).__init__()\n",
        "        self.conv1 = nn.Conv2d(3, 32, 5)\n",
        "        self.pool = nn.MaxPool2d(2, 2)\n",
        "        self.conv2 = nn.Conv2d(32, 64, 10)\n",
        "        self.conv3 = nn.Conv2d(64, 128, 20)\n",
        "        self.fc1 = nn.Linear(128*25*25, 120)\n",
        "        self.fc2 = nn.Linear(120, 3)\n",
        "\n",
        "    def forward(self, x):\n",
        "      #print(\"Start: \",x.shape)\n",
        "      x = self.conv1(x)\n",
        "      print(\"conv1: \",x.shape)\n",
        "      x = self.pool(F.relu(x))\n",
        "      print(\"first pool: \",x.shape)\n",
        "      x= self.conv2(x)\n",
        "      print(\"conv2: \", x.shape)\n",
        "      x = self.pool(F.relu(x))\n",
        "      print(\"second pool: \",x.shape)\n",
        "      x= self.conv3(x)\n",
        "      print(\"conv3: \", x.shape)\n",
        "      x = self.pool(F.relu(x))\n",
        "      print(\"second pool: \",x.shape)\n",
        "      x = x.view(x.size(0), -1)\n",
        "      print(\"x.view: \", x.shape)\n",
        "      #x = x.view(-1, 16 * 5 * 5)\n",
        "      x = self.fc1(x)\n",
        "      print(\"FC1 \", x.shape)\n",
        "      x = F.relu(x)\n",
        "      print(\"relu fc1: \", x.shape)\n",
        "      x = self.fc2(x)\n",
        "      print(\"FC2 \", x.shape)\n",
        "      x = F.relu(x)\n",
        "      print(\"relu fc2: \", x.shape)\n",
        "      return x\n",
        "\n",
        "\n"
      ],
      "execution_count": null,
      "outputs": []
    },
    {
      "cell_type": "code",
      "metadata": {
        "id": "tS13xL2nrUAc"
      },
      "source": [
        ""
      ],
      "execution_count": null,
      "outputs": []
    },
    {
      "cell_type": "code",
      "metadata": {
        "id": "2yK2K4cdWSGf"
      },
      "source": [
        "def train_model(n_epochs, print_every):\n",
        "  \n",
        "\n",
        "  criterion = nn.CrossEntropyLoss()\n",
        "  optimizer = optim.SGD(net.parameters(), lr=0.0001, momentum=0.9)\n",
        "\n",
        "  valid_loss_min = np.Inf\n",
        "  loss_history=[]  \n",
        "  correct_history=[]  \n",
        "  val_loss_history=[]  \n",
        "  val_correct_history=[]  \n",
        "  val_loss = []\n",
        "  val_acc = []\n",
        "  train_loss = []\n",
        "  train_acc = []\n",
        "  total_step = len(dataloader_train)\n",
        "  for epoch in range(1, n_epochs+1):\n",
        "      running_loss = 0.0\n",
        "      correct = 0\n",
        "      total=0\n",
        "      print(f'Epoch {epoch}\\n')\n",
        "      for batch_idx, (data_, target_) in enumerate(dataloader_train):\n",
        "          data_, target_ = data_.to(device), target_.to(device)\n",
        "          optimizer.zero_grad()\n",
        "          \n",
        "          outputs = net(data_)\n",
        "          loss = criterion(outputs, target_)\n",
        "          loss.backward()\n",
        "          optimizer.step()\n",
        "\n",
        "          running_loss += loss.item()\n",
        "          _,pred = torch.max(outputs, dim=1)\n",
        "          correct += torch.sum(pred==target_).item()\n",
        "          total += target_.size(0)\n",
        "          if (batch_idx) % print_every == 0:\n",
        "              print ('Epoch [{}/{}], Step [{}/{}], Loss: {:.4f}' \n",
        "                    .format(epoch, n_epochs, batch_idx, total_step, loss.item()))\n",
        "      train_acc.append(100 * correct / total)\n",
        "      train_loss.append(running_loss/total_step)\n",
        "      print(f'\\ntrain-loss: {np.mean(train_loss):.4f}, train-acc: {(100 * correct/total):.4f}')\n",
        "      batch_loss = 0\n",
        "      total_t=0\n",
        "      correct_t=0\n",
        "      with torch.no_grad():\n",
        "          net.eval()\n",
        "          for data_t, target_t in (dataloader_valid):\n",
        "              data_t, target_t = data_t.to(device), target_t.to(device)\n",
        "              outputs_t = net(data_t)\n",
        "              loss_t = criterion(outputs_t, target_t)\n",
        "              batch_loss += loss_t.item()\n",
        "              _,pred_t = torch.max(outputs_t, dim=1)\n",
        "              correct_t += torch.sum(pred_t==target_t).item()\n",
        "              total_t += target_t.size(0)\n",
        "          val_acc.append(100 * correct_t/total_t)\n",
        "          val_loss.append(batch_loss/len(dataloader_valid))\n",
        "          network_learned = batch_loss < valid_loss_min\n",
        "          print(f'validation loss: {np.mean(val_loss):.4f}, validation acc: {(100 * correct_t/total_t):.4f}\\n')\n",
        "\n",
        "          \n",
        "          if network_learned:\n",
        "              valid_loss_min = batch_loss\n",
        "              torch.save(net.state_dict(), dir_path+'/'+str(n_epochs)+'_epoch_base.pt')\n",
        "              print('Improvement-Detected, save-model')\n",
        "\n",
        "      epoch_loss=running_loss/len(dataloader_train)\n",
        "      epoch_acc=correct/total\n",
        "      loss_history.append(epoch_loss)\n",
        "      correct_history.append(epoch_acc)\n",
        "      val_epoch_loss=batch_loss/len(dataloader_valid)\n",
        "      val_epoch_acc=correct_t/total_t\n",
        "      val_loss_history.append(val_epoch_loss)\n",
        "      val_correct_history.append(val_epoch_acc)\n",
        "      net.train()\n",
        "  return loss_history, val_loss_history, train_acc, val_acc"
      ],
      "execution_count": null,
      "outputs": []
    }
  ]
}