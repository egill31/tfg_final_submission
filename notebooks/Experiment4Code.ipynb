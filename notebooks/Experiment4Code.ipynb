{
  "nbformat": 4,
  "nbformat_minor": 0,
  "metadata": {
    "colab": {
      "name": "Experiment4Code.ipynb",
      "provenance": [],
      "collapsed_sections": []
    },
    "kernelspec": {
      "name": "python3",
      "display_name": "Python 3"
    },
    "language_info": {
      "name": "python"
    },
    "accelerator": "GPU"
  },
  "cells": [
    {
      "cell_type": "code",
      "metadata": {
        "colab": {
          "base_uri": "https://localhost:8080/"
        },
        "id": "Is0BlaDwbqO4",
        "outputId": "bcf17f6b-91fc-4395-f17f-6e0dfe69c8f6"
      },
      "source": [
        "import numpy as np # linear algebra\n",
        "import pandas as pd # data processing, CSV file I/O (e.g. pd.read_csv)\n",
        "import cv2\n",
        "%matplotlib inline\n",
        "%config InlineBackend.figure_format = 'retina'\n",
        "import matplotlib.pyplot as plt\n",
        "from sklearn.metrics import f1_score, confusion_matrix\n",
        "import itertools\n",
        "import torch\n",
        "import torch.nn as nn\n",
        "import torch.optim as optim\n",
        "\n",
        "import torchvision\n",
        "import torch.nn.functional as F\n",
        "from torchvision import datasets, transforms, models\n",
        "import torchvision.transforms as transforms\n",
        "\n",
        "from torch.autograd import Variable\n",
        "from torch.utils.data import Dataset, DataLoader\n",
        "\n",
        "from sklearn import metrics\n",
        "from sklearn.model_selection import train_test_split\n",
        "\n",
        "import os\n",
        "\n",
        "import datetime\n",
        "\n",
        "import seaborn as sns\n",
        "from tqdm.notebook import tqdm\n",
        "torch.manual_seed(17)"
      ],
      "execution_count": null,
      "outputs": [
        {
          "output_type": "execute_result",
          "data": {
            "text/plain": [
              "<torch._C.Generator at 0x7fa3f8ce4750>"
            ]
          },
          "metadata": {
            "tags": []
          },
          "execution_count": 1
        }
      ]
    },
    {
      "cell_type": "code",
      "metadata": {
        "colab": {
          "base_uri": "https://localhost:8080/"
        },
        "id": "PbBSWqtyb9TK",
        "outputId": "bca07ec1-84a7-4db9-8853-551839dec058"
      },
      "source": [
        "from google.colab import drive\n",
        "drive.mount('/content/drive')"
      ],
      "execution_count": null,
      "outputs": [
        {
          "output_type": "stream",
          "text": [
            "Mounted at /content/drive\n"
          ],
          "name": "stdout"
        }
      ]
    },
    {
      "cell_type": "code",
      "metadata": {
        "id": "wNjJFHHab_jA"
      },
      "source": [
        "dir_path = \"/content/drive/MyDrive/COVID-19_Radiography_Dataset\"\n",
        "batchnorml2_chkpt_path = \"/content/drive/MyDrive/COVID-19_Radiography_Dataset/batchnorml2\"\n",
        "train_path = \"/content/drive/MyDrive/COVID-19_Radiography_Dataset/split_images/train\"\n",
        "val_path = \"/content/drive/MyDrive/COVID-19_Radiography_Dataset/split_images/val\"\n",
        "test_path = \"/content/drive/MyDrive/COVID-19_Radiography_Dataset/split_images/test\""
      ],
      "execution_count": null,
      "outputs": []
    },
    {
      "cell_type": "markdown",
      "metadata": {
        "id": "tvDliW46ciUj"
      },
      "source": [
        "# Data Prep"
      ]
    },
    {
      "cell_type": "code",
      "metadata": {
        "colab": {
          "base_uri": "https://localhost:8080/"
        },
        "id": "LOWX8i7GcVM-",
        "outputId": "72f7eb7f-fbb0-4809-91b5-756077bb81f3"
      },
      "source": [
        "image_transforms = {\n",
        "    \"train\": transforms.Compose([\n",
        "        transforms.Resize((299, 299)),\n",
        "        transforms.ToTensor(),\n",
        "        transforms.RandomGrayscale(p=0.05),\n",
        "        transforms.RandomVerticalFlip(p=0.07),\n",
        "        transforms.RandomRotation(8),\n",
        "        transforms.Normalize((0.5,0.5,0.5),(0.5,0.5,0.5))\n",
        "    ]),\n",
        "    \"val\": transforms.Compose([\n",
        "        transforms.Resize((299, 299)),\n",
        "        transforms.ToTensor(),\n",
        "        transforms.Normalize((0.5,0.5,0.5),(0.5,0.5,0.5))\n",
        "    ]),\n",
        "    \"test\": transforms.Compose([\n",
        "        transforms.Resize((299, 299)),\n",
        "        transforms.ToTensor(),\n",
        "        transforms.Normalize((0.5,0.5,0.5),(0.5,0.5,0.5))\n",
        "    ])\n",
        "}\n",
        "\n",
        "\n",
        "train_dataset = datasets.ImageFolder(\n",
        "                              root = train_path,\n",
        "                              transform = image_transforms[\"train\"]\n",
        "                       )\n",
        "\n",
        "val_dataset = datasets.ImageFolder(\n",
        "                              root = val_path,\n",
        "                              transform = image_transforms[\"val\"]\n",
        "                       )\n",
        "\n",
        "test_dataset = datasets.ImageFolder(\n",
        "                              root = test_path,\n",
        "                              transform = image_transforms[\"test\"]\n",
        "                       )\n",
        "\n",
        "print(\"Training length: \", len(train_dataset))\n",
        "print(\"Validation length: \", len(val_dataset))\n",
        "print(\"Testing length: \", len(test_dataset))\n",
        "\n",
        "dataloader_train = torch.utils.data.DataLoader(train_dataset, batch_size=124, shuffle=True)\n",
        "dataloader_valid = torch.utils.data.DataLoader(val_dataset, batch_size=124, shuffle=True)\n",
        "dataloader_test = torch.utils.data.DataLoader(test_dataset, batch_size=1, shuffle=True)"
      ],
      "execution_count": null,
      "outputs": [
        {
          "output_type": "stream",
          "text": [
            "Training length:  11964\n",
            "Validation length:  2279\n",
            "Testing length:  910\n"
          ],
          "name": "stdout"
        }
      ]
    },
    {
      "cell_type": "markdown",
      "metadata": {
        "id": "nWJopUuucfJT"
      },
      "source": [
        "# Eval functions"
      ]
    },
    {
      "cell_type": "code",
      "metadata": {
        "id": "4zmnVx3AcZOU"
      },
      "source": [
        "# Functions to create confusion matrix\n",
        "\n",
        "def get_confusion_tensor(preds, targets):\n",
        "  stacked = torch.stack(\n",
        "      (\n",
        "          torch.cat(targets, dim=0)\n",
        "          ,torch.cat(preds, dim=0)\n",
        "      )\n",
        "      ,dim=1\n",
        "  )\n",
        "  cmt = torch.zeros(3,3, dtype=torch.int64)\n",
        "  for p in stacked:\n",
        "      tl, pl = p.tolist()\n",
        "      cmt[int(tl), int(pl)] = cmt[int(tl), int(pl)] + 1\n",
        "  return cmt\n",
        "\n",
        "def plot_confusion_matrix(preds, targets, classes, normalize=False, title='Confusion matrix', cmap=plt.cm.Blues):\n",
        "  cm = get_confusion_tensor(preds, targets)\n",
        "\n",
        "  print(cm)\n",
        "  plt.imshow(cm, interpolation='nearest', cmap=cmap)\n",
        "  plt.title(title)\n",
        "  plt.colorbar()\n",
        "  tick_marks = np.arange(len(classes))\n",
        "  plt.xticks(tick_marks, classes, rotation=45)\n",
        "  plt.yticks(tick_marks, classes)\n",
        "\n",
        "  fmt = '.2f' if normalize else 'd'\n",
        "  thresh = cm.max() / 2.\n",
        "  for i, j in itertools.product(range(cm.shape[0]), range(cm.shape[1])):\n",
        "      plt.text(j, i, format(cm[i, j], fmt), horizontalalignment=\"center\", color=\"white\" if cm[i, j] > thresh else \"black\")\n",
        "\n",
        "  plt.tight_layout()\n",
        "  plt.ylabel('True label')\n",
        "  plt.xlabel('Predicted label')"
      ],
      "execution_count": null,
      "outputs": []
    },
    {
      "cell_type": "markdown",
      "metadata": {
        "id": "VsgUePbqceaX"
      },
      "source": [
        "# Model"
      ]
    },
    {
      "cell_type": "code",
      "metadata": {
        "id": "H8lyN8XlcoAO"
      },
      "source": [
        "#torch.nn.Conv2d(in_channels, out_channels, kernel_size, stride=1, padding=0, \n",
        "#                 dilation=1, groups=1, bias=True, padding_mode='zeros')\n",
        "\n",
        "class Net(nn.Module):\n",
        "    def __init__(self):\n",
        "        super(Net, self).__init__()\n",
        "        self.conv1 = nn.Conv2d(3, 32, 5)\n",
        "        self.pool = nn.MaxPool2d(2, 2)\n",
        "        self.conv2 = nn.Conv2d(32, 64, 10)\n",
        "        self.conv3 = nn.Conv2d(64, 128, 20)\n",
        "        self.fc1 = nn.Linear(128*25*25, 120)\n",
        "        self.fc2 = nn.Linear(120, 3)\n",
        "        self.batchNorm1 = nn.BatchNorm2d(32, momentum=0.04)\n",
        "        self.batchNorm2 = nn.BatchNorm2d(64, momentum=0.06)\n",
        "        self.batchNorm3 = nn.BatchNorm2d(128, momentum=0.06)\n",
        "\n",
        "    def forward(self, x):\n",
        "      #print(\"Start: \",x.shape)\n",
        "      x = self.batchNorm1(self.conv1(x))\n",
        "      #print(\"conv1: \",x.shape)\n",
        "      x = self.pool(F.relu(x))\n",
        "      #print(\"first pool: \",x.shape)\n",
        "      x= self.batchNorm2(self.conv2(x))\n",
        "      #print(\"conv2: \", x.shape)\n",
        "      x = self.pool(F.relu(x))\n",
        "      #print(\"second pool: \",x.shape)\n",
        "      x= self.batchNorm3(self.conv3(x))\n",
        "      #print(\"conv3: \", x.shape)\n",
        "      x = self.pool(F.relu(x))\n",
        "      #print(\"second pool: \",x.shape)\n",
        "      x = x.view(x.size(0), -1)\n",
        "      #print(\"x.view: \", x.shape)\n",
        "      #x = x.view(-1, 16 * 5 * 5)\n",
        "      x = self.fc1(x)\n",
        "      #print(\"FC1 \", x.shape)\n",
        "      x = F.relu(x)\n",
        "      #print(\"relu fc1: \", x.shape)\n",
        "      x = self.fc2(x)\n",
        "      #print(\"FC2 \", x.shape)\n",
        "      x = F.relu(x)\n",
        "      #print(\"relu fc2: \", x.shape)\n",
        "      return x"
      ],
      "execution_count": null,
      "outputs": []
    },
    {
      "cell_type": "markdown",
      "metadata": {
        "id": "NQdZ_tyqeg4y"
      },
      "source": [
        "# Training Function"
      ]
    },
    {
      "cell_type": "code",
      "metadata": {
        "id": "tQ-R2a_aenuf"
      },
      "source": [
        "def train_model(n_epochs, print_every):\n",
        "  \n",
        "\n",
        "  criterion = nn.CrossEntropyLoss()\n",
        "  optimizer = optim.SGD(net.parameters(), lr=0.0001, momentum=0.9, weight_decay=1e-6)  # add L2 normalization via weight_decay  \n",
        "\n",
        "  valid_loss_min = np.Inf\n",
        "  loss_history=[]  \n",
        "  correct_history=[]  \n",
        "  val_loss_history=[]  \n",
        "  val_correct_history=[]  \n",
        "  val_loss = []\n",
        "  val_acc = []\n",
        "  train_loss = []\n",
        "  train_acc = []\n",
        "  total_step = len(dataloader_train)\n",
        "  for epoch in range(1, n_epochs+1):\n",
        "    running_loss = 0.0\n",
        "    correct = 0\n",
        "    total=0\n",
        "    print(f'Epoch {epoch}\\n')\n",
        "    for batch_idx, (data_, target_) in enumerate(dataloader_train):\n",
        "      net.train()\n",
        "      data_, target_ = data_.to(device), target_.to(device)\n",
        "      optimizer.zero_grad()\n",
        "      \n",
        "      outputs = net(data_)\n",
        "      loss = criterion(outputs, target_)\n",
        "      loss.backward()\n",
        "      optimizer.step()\n",
        "\n",
        "      running_loss += loss.item()\n",
        "      _,pred = torch.max(outputs, dim=1)\n",
        "      correct += torch.sum(pred==target_).item()\n",
        "      total += target_.size(0)\n",
        "      if (batch_idx) % print_every == 0:\n",
        "          print ('Epoch [{}/{}], Step [{}/{}], Loss: {:.4f}' \n",
        "                .format(epoch, n_epochs, batch_idx, total_step, loss.item()))\n",
        "    train_acc.append(100 * correct / total)\n",
        "    train_loss.append(running_loss/total_step)\n",
        "    print(f'\\ntrain-loss: {np.mean(train_loss):.4f}, train-acc: {(100 * correct/total):.4f}')\n",
        "    batch_loss = 0\n",
        "    total_t=0\n",
        "    correct_t=0\n",
        "    with torch.no_grad():\n",
        "      net.eval()\n",
        "      for data_t, target_t in (dataloader_valid):\n",
        "        data_t, target_t = data_t.to(device), target_t.to(device)\n",
        "        outputs_t = net(data_t)\n",
        "        loss_t = criterion(outputs_t, target_t)\n",
        "        batch_loss += loss_t.item()\n",
        "        _,pred_t = torch.max(outputs_t, dim=1)\n",
        "        correct_t += torch.sum(pred_t==target_t).item()\n",
        "        total_t += target_t.size(0)\n",
        "      val_acc.append(100 * correct_t/total_t)\n",
        "      val_loss.append(batch_loss/len(dataloader_valid))\n",
        "      network_learned = batch_loss < valid_loss_min\n",
        "      print(f'validation loss: {np.mean(val_loss):.4f}, validation acc: {(100 * correct_t/total_t):.4f}\\n')\n",
        "\n",
        "        \n",
        "      if network_learned:\n",
        "        valid_loss_min = batch_loss\n",
        "        torch.save(net.state_dict(), batchnorml2_chkpt_path+'/'+str(n_epochs)+'_batchNorml2.pt')\n",
        "        print('Improvement-Detected, save-model')\n",
        "\n",
        "    epoch_loss=running_loss/len(dataloader_train)\n",
        "    epoch_acc=correct/total\n",
        "    loss_history.append(epoch_loss)\n",
        "    correct_history.append(epoch_acc)\n",
        "    val_epoch_loss=batch_loss/len(dataloader_valid)\n",
        "    val_epoch_acc=correct_t/total_t\n",
        "    val_loss_history.append(val_epoch_loss)\n",
        "    val_correct_history.append(val_epoch_acc)\n",
        "      \n",
        "  return loss_history, val_loss_history, train_acc, val_acc"
      ],
      "execution_count": null,
      "outputs": []
    },
    {
      "cell_type": "markdown",
      "metadata": {
        "id": "rsQVLE1dGmzj"
      },
      "source": [
        "# Experiment 4 - 30 Epochs"
      ]
    },
    {
      "cell_type": "code",
      "metadata": {
        "id": "4FaX4jax3B8G"
      },
      "source": [
        ""
      ],
      "execution_count": null,
      "outputs": []
    },
    {
      "cell_type": "code",
      "metadata": {
        "colab": {
          "base_uri": "https://localhost:8080/"
        },
        "id": "1exewSpLqB7d",
        "outputId": "f9e41e94-bc2d-4384-c960-87d33e3cad11"
      },
      "source": [
        "device = torch.device(\"cuda:0\" if torch.cuda.is_available() else \"cpu\")\n",
        "net = Net()\n",
        "net.to(device)\n",
        "loss_history, val_loss_history, train_acc, val_acc = train_model(30, 30)"
      ],
      "execution_count": null,
      "outputs": [
        {
          "output_type": "stream",
          "text": [
            "Epoch 1\n",
            "\n",
            "Epoch [1/30], Step [0/97], Loss: 1.1404\n",
            "Epoch [1/30], Step [30/97], Loss: 0.7872\n",
            "Epoch [1/30], Step [60/97], Loss: 0.6449\n",
            "Epoch [1/30], Step [90/97], Loss: 0.7310\n",
            "\n",
            "train-loss: 0.7895, train-acc: 63.8917\n",
            "validation loss: 0.7534, validation acc: 72.6196\n",
            "\n",
            "Improvement-Detected, save-model\n",
            "Epoch 2\n",
            "\n",
            "Epoch [2/30], Step [0/97], Loss: 0.6447\n",
            "Epoch [2/30], Step [30/97], Loss: 0.6426\n",
            "Epoch [2/30], Step [60/97], Loss: 0.5177\n",
            "Epoch [2/30], Step [90/97], Loss: 0.3916\n",
            "\n",
            "train-loss: 0.6689, train-acc: 79.0789\n",
            "validation loss: 0.5809, validation acc: 84.9934\n",
            "\n",
            "Improvement-Detected, save-model\n",
            "Epoch 3\n",
            "\n",
            "Epoch [3/30], Step [0/97], Loss: 0.3831\n",
            "Epoch [3/30], Step [30/97], Loss: 0.4070\n",
            "Epoch [3/30], Step [60/97], Loss: 0.3674\n",
            "Epoch [3/30], Step [90/97], Loss: 0.3316\n",
            "\n",
            "train-loss: 0.5721, train-acc: 85.0050\n",
            "validation loss: 0.4934, validation acc: 87.6700\n",
            "\n",
            "Improvement-Detected, save-model\n",
            "Epoch 4\n",
            "\n",
            "Epoch [4/30], Step [0/97], Loss: 0.4070\n",
            "Epoch [4/30], Step [30/97], Loss: 0.3144\n",
            "Epoch [4/30], Step [60/97], Loss: 0.3268\n",
            "Epoch [4/30], Step [90/97], Loss: 0.3825\n",
            "\n",
            "train-loss: 0.5111, train-acc: 86.9107\n",
            "validation loss: 0.4364, validation acc: 90.1272\n",
            "\n",
            "Improvement-Detected, save-model\n",
            "Epoch 5\n",
            "\n",
            "Epoch [5/30], Step [0/97], Loss: 0.2898\n",
            "Epoch [5/30], Step [30/97], Loss: 0.3394\n",
            "Epoch [5/30], Step [60/97], Loss: 0.2471\n",
            "Epoch [5/30], Step [90/97], Loss: 0.2712\n",
            "\n",
            "train-loss: 0.4657, train-acc: 89.1174\n",
            "validation loss: 0.3994, validation acc: 90.5660\n",
            "\n",
            "Improvement-Detected, save-model\n",
            "Epoch 6\n",
            "\n",
            "Epoch [6/30], Step [0/97], Loss: 0.2484\n",
            "Epoch [6/30], Step [30/97], Loss: 0.2860\n",
            "Epoch [6/30], Step [60/97], Loss: 0.2950\n",
            "Epoch [6/30], Step [90/97], Loss: 0.2175\n",
            "\n",
            "train-loss: 0.4318, train-acc: 89.8027\n",
            "validation loss: 0.3749, validation acc: 89.9517\n",
            "\n",
            "Epoch 7\n",
            "\n",
            "Epoch [7/30], Step [0/97], Loss: 0.3172\n",
            "Epoch [7/30], Step [30/97], Loss: 0.2155\n",
            "Epoch [7/30], Step [60/97], Loss: 0.2339\n",
            "Epoch [7/30], Step [90/97], Loss: 0.2831\n",
            "\n",
            "train-loss: 0.4045, train-acc: 90.8559\n",
            "validation loss: 0.3555, validation acc: 90.1711\n",
            "\n",
            "Improvement-Detected, save-model\n",
            "Epoch 8\n",
            "\n",
            "Epoch [8/30], Step [0/97], Loss: 0.2241\n",
            "Epoch [8/30], Step [30/97], Loss: 0.2550\n",
            "Epoch [8/30], Step [60/97], Loss: 0.1707\n",
            "Epoch [8/30], Step [90/97], Loss: 0.2671\n",
            "\n",
            "train-loss: 0.3821, train-acc: 91.7168\n",
            "validation loss: 0.3357, validation acc: 93.1110\n",
            "\n",
            "Improvement-Detected, save-model\n",
            "Epoch 9\n",
            "\n",
            "Epoch [9/30], Step [0/97], Loss: 0.2202\n",
            "Epoch [9/30], Step [30/97], Loss: 0.1903\n",
            "Epoch [9/30], Step [60/97], Loss: 0.1904\n",
            "Epoch [9/30], Step [90/97], Loss: 0.2105\n",
            "\n",
            "train-loss: 0.3629, train-acc: 92.2016\n",
            "validation loss: 0.3215, validation acc: 91.0926\n",
            "\n",
            "Epoch 10\n",
            "\n",
            "Epoch [10/30], Step [0/97], Loss: 0.1739\n",
            "Epoch [10/30], Step [30/97], Loss: 0.2207\n",
            "Epoch [10/30], Step [60/97], Loss: 0.1914\n",
            "Epoch [10/30], Step [90/97], Loss: 0.1760\n",
            "\n",
            "train-loss: 0.3466, train-acc: 92.5527\n",
            "validation loss: 0.3087, validation acc: 93.2427\n",
            "\n",
            "Improvement-Detected, save-model\n",
            "Epoch 11\n",
            "\n",
            "Epoch [11/30], Step [0/97], Loss: 0.2078\n",
            "Epoch [11/30], Step [30/97], Loss: 0.1709\n",
            "Epoch [11/30], Step [60/97], Loss: 0.2449\n",
            "Epoch [11/30], Step [90/97], Loss: 0.2358\n",
            "\n",
            "train-loss: 0.3319, train-acc: 93.0960\n",
            "validation loss: 0.2966, validation acc: 93.5498\n",
            "\n",
            "Improvement-Detected, save-model\n",
            "Epoch 12\n",
            "\n",
            "Epoch [12/30], Step [0/97], Loss: 0.2448\n",
            "Epoch [12/30], Step [30/97], Loss: 0.2150\n",
            "Epoch [12/30], Step [60/97], Loss: 0.1940\n",
            "Epoch [12/30], Step [90/97], Loss: 0.2048\n",
            "\n",
            "train-loss: 0.3187, train-acc: 93.7646\n",
            "validation loss: 0.2853, validation acc: 94.2519\n",
            "\n",
            "Improvement-Detected, save-model\n",
            "Epoch 13\n",
            "\n",
            "Epoch [13/30], Step [0/97], Loss: 0.1288\n",
            "Epoch [13/30], Step [30/97], Loss: 0.1763\n",
            "Epoch [13/30], Step [60/97], Loss: 0.1675\n",
            "Epoch [13/30], Step [90/97], Loss: 0.1655\n",
            "\n",
            "train-loss: 0.3073, train-acc: 93.7563\n",
            "validation loss: 0.2838, validation acc: 88.2843\n",
            "\n",
            "Epoch 14\n",
            "\n",
            "Epoch [14/30], Step [0/97], Loss: 0.1696\n",
            "Epoch [14/30], Step [30/97], Loss: 0.1389\n",
            "Epoch [14/30], Step [60/97], Loss: 0.2211\n",
            "Epoch [14/30], Step [90/97], Loss: 0.1370\n",
            "\n",
            "train-loss: 0.2967, train-acc: 94.2076\n",
            "validation loss: 0.2777, validation acc: 92.3651\n",
            "\n",
            "Epoch 15\n",
            "\n",
            "Epoch [15/30], Step [0/97], Loss: 0.1393\n",
            "Epoch [15/30], Step [30/97], Loss: 0.1186\n",
            "Epoch [15/30], Step [60/97], Loss: 0.1803\n",
            "Epoch [15/30], Step [90/97], Loss: 0.0836\n",
            "\n",
            "train-loss: 0.2872, train-acc: 94.3163\n",
            "validation loss: 0.2703, validation acc: 93.6814\n",
            "\n",
            "Epoch 16\n",
            "\n",
            "Epoch [16/30], Step [0/97], Loss: 0.2010\n",
            "Epoch [16/30], Step [30/97], Loss: 0.2829\n",
            "Epoch [16/30], Step [60/97], Loss: 0.1587\n",
            "Epoch [16/30], Step [90/97], Loss: 0.0838\n",
            "\n",
            "train-loss: 0.2781, train-acc: 95.0435\n",
            "validation loss: 0.2626, validation acc: 94.2519\n",
            "\n",
            "Improvement-Detected, save-model\n",
            "Epoch 17\n",
            "\n",
            "Epoch [17/30], Step [0/97], Loss: 0.1426\n",
            "Epoch [17/30], Step [30/97], Loss: 0.1489\n",
            "Epoch [17/30], Step [60/97], Loss: 0.1021\n",
            "Epoch [17/30], Step [90/97], Loss: 0.1003\n",
            "\n",
            "train-loss: 0.2699, train-acc: 94.9264\n",
            "validation loss: 0.2551, validation acc: 94.6029\n",
            "\n",
            "Improvement-Detected, save-model\n",
            "Epoch 18\n",
            "\n",
            "Epoch [18/30], Step [0/97], Loss: 0.1514\n",
            "Epoch [18/30], Step [30/97], Loss: 0.1252\n",
            "Epoch [18/30], Step [60/97], Loss: 0.1503\n",
            "Epoch [18/30], Step [90/97], Loss: 0.1383\n",
            "\n",
            "train-loss: 0.2623, train-acc: 95.4781\n",
            "validation loss: 0.2488, validation acc: 94.7345\n",
            "\n",
            "Epoch 19\n",
            "\n",
            "Epoch [19/30], Step [0/97], Loss: 0.1029\n",
            "Epoch [19/30], Step [30/97], Loss: 0.1011\n",
            "Epoch [19/30], Step [60/97], Loss: 0.1280\n",
            "Epoch [19/30], Step [90/97], Loss: 0.1886\n",
            "\n",
            "train-loss: 0.2552, train-acc: 95.8292\n",
            "validation loss: 0.2426, validation acc: 94.8662\n",
            "\n",
            "Improvement-Detected, save-model\n",
            "Epoch 20\n",
            "\n",
            "Epoch [20/30], Step [0/97], Loss: 0.1175\n",
            "Epoch [20/30], Step [30/97], Loss: 0.1125\n",
            "Epoch [20/30], Step [60/97], Loss: 0.1103\n",
            "Epoch [20/30], Step [90/97], Loss: 0.0839\n",
            "\n",
            "train-loss: 0.2485, train-acc: 95.8960\n",
            "validation loss: 0.2381, validation acc: 94.5590\n",
            "\n",
            "Epoch 21\n",
            "\n",
            "Epoch [21/30], Step [0/97], Loss: 0.1229\n",
            "Epoch [21/30], Step [30/97], Loss: 0.1315\n",
            "Epoch [21/30], Step [60/97], Loss: 0.1323\n",
            "Epoch [21/30], Step [90/97], Loss: 0.1262\n",
            "\n",
            "train-loss: 0.2420, train-acc: 96.3975\n",
            "validation loss: 0.2330, validation acc: 95.4366\n",
            "\n",
            "Epoch 22\n",
            "\n",
            "Epoch [22/30], Step [0/97], Loss: 0.0702\n",
            "Epoch [22/30], Step [30/97], Loss: 0.1253\n",
            "Epoch [22/30], Step [60/97], Loss: 0.1111\n",
            "Epoch [22/30], Step [90/97], Loss: 0.1442\n",
            "\n",
            "train-loss: 0.2361, train-acc: 96.4142\n",
            "validation loss: 0.2290, validation acc: 93.9886\n",
            "\n",
            "Epoch 23\n",
            "\n",
            "Epoch [23/30], Step [0/97], Loss: 0.0758\n",
            "Epoch [23/30], Step [30/97], Loss: 0.0753\n",
            "Epoch [23/30], Step [60/97], Loss: 0.0814\n",
            "Epoch [23/30], Step [90/97], Loss: 0.1210\n",
            "\n",
            "train-loss: 0.2305, train-acc: 96.3975\n",
            "validation loss: 0.2250, validation acc: 94.9978\n",
            "\n",
            "Epoch 24\n",
            "\n",
            "Epoch [24/30], Step [0/97], Loss: 0.1247\n",
            "Epoch [24/30], Step [30/97], Loss: 0.1731\n",
            "Epoch [24/30], Step [60/97], Loss: 0.0901\n",
            "Epoch [24/30], Step [90/97], Loss: 0.0950\n",
            "\n",
            "train-loss: 0.2253, train-acc: 96.3557\n",
            "validation loss: 0.2200, validation acc: 96.1387\n",
            "\n",
            "Improvement-Detected, save-model\n",
            "Epoch 25\n",
            "\n",
            "Epoch [25/30], Step [0/97], Loss: 0.1304\n",
            "Epoch [25/30], Step [30/97], Loss: 0.1137\n",
            "Epoch [25/30], Step [60/97], Loss: 0.0700\n",
            "Epoch [25/30], Step [90/97], Loss: 0.0870\n",
            "\n",
            "train-loss: 0.2203, train-acc: 96.7569\n",
            "validation loss: 0.2161, validation acc: 95.7437\n",
            "\n",
            "Epoch 26\n",
            "\n",
            "Epoch [26/30], Step [0/97], Loss: 0.0951\n",
            "Epoch [26/30], Step [30/97], Loss: 0.1375\n",
            "Epoch [26/30], Step [60/97], Loss: 0.1472\n",
            "Epoch [26/30], Step [90/97], Loss: 0.0987\n",
            "\n",
            "train-loss: 0.2153, train-acc: 97.1832\n",
            "validation loss: 0.2124, validation acc: 95.5244\n",
            "\n",
            "Epoch 27\n",
            "\n",
            "Epoch [27/30], Step [0/97], Loss: 0.0748\n",
            "Epoch [27/30], Step [30/97], Loss: 0.0814\n",
            "Epoch [27/30], Step [60/97], Loss: 0.1262\n",
            "Epoch [27/30], Step [90/97], Loss: 0.0888\n",
            "\n",
            "train-loss: 0.2108, train-acc: 96.9743\n",
            "validation loss: 0.2126, validation acc: 91.5314\n",
            "\n",
            "Epoch 28\n",
            "\n",
            "Epoch [28/30], Step [0/97], Loss: 0.0958\n",
            "Epoch [28/30], Step [30/97], Loss: 0.0530\n",
            "Epoch [28/30], Step [60/97], Loss: 0.1216\n",
            "Epoch [28/30], Step [90/97], Loss: 0.0966\n",
            "\n",
            "train-loss: 0.2065, train-acc: 97.0578\n",
            "validation loss: 0.2147, validation acc: 89.5129\n",
            "\n",
            "Epoch 29\n",
            "\n",
            "Epoch [29/30], Step [0/97], Loss: 0.1039\n",
            "Epoch [29/30], Step [30/97], Loss: 0.1429\n",
            "Epoch [29/30], Step [60/97], Loss: 0.0970\n",
            "Epoch [29/30], Step [90/97], Loss: 0.0977\n",
            "\n",
            "train-loss: 0.2024, train-acc: 96.9325\n",
            "validation loss: 0.2119, validation acc: 95.4366\n",
            "\n",
            "Epoch 30\n",
            "\n",
            "Epoch [30/30], Step [0/97], Loss: 0.0669\n",
            "Epoch [30/30], Step [30/97], Loss: 0.0725\n",
            "Epoch [30/30], Step [60/97], Loss: 0.0602\n",
            "Epoch [30/30], Step [90/97], Loss: 0.0733\n",
            "\n",
            "train-loss: 0.1984, train-acc: 97.2250\n",
            "validation loss: 0.2112, validation acc: 92.4528\n",
            "\n"
          ],
          "name": "stdout"
        }
      ]
    },
    {
      "cell_type": "code",
      "metadata": {
        "colab": {
          "base_uri": "https://localhost:8080/",
          "height": 513
        },
        "id": "pnYInHNhqE42",
        "outputId": "1eeda28a-234e-4926-e370-c022d484b7a0"
      },
      "source": [
        "plt.plot(loss_history,label='Training Loss')  \n",
        "plt.plot(val_loss_history,label='Validation Loss')  \n",
        "plt.legend()  \n",
        "plt.show()  \n",
        "plt.plot(train_acc,label='Training accuracy')  \n",
        "plt.plot(val_acc,label='Validation accuracy')  \n",
        "plt.legend()  \n",
        "plt.show()"
      ],
      "execution_count": null,
      "outputs": [
        {
          "output_type": "display_data",
          "data": {
            "image/png": "[encoded data removed]",
            "text/plain": [
              "<Figure size 432x288 with 1 Axes>"
            ]
          },
          "metadata": {
            "tags": [],
            "image/png": {
              "width": 373,
              "height": 248
            },
            "needs_background": "light"
          }
        },
        {
          "output_type": "display_data",
          "data": {
            "image/png": "[encoded data removed]",
            "text/plain": [
              "<Figure size 432x288 with 1 Axes>"
            ]
          },
          "metadata": {
            "tags": [],
            "image/png": {
              "width": 370,
              "height": 248
            },
            "needs_background": "light"
          }
        }
      ]
    },
    {
      "cell_type": "code",
      "metadata": {
        "colab": {
          "base_uri": "https://localhost:8080/"
        },
        "id": "UKPdSY11qKPD",
        "outputId": "02708469-ea17-437b-96da-d931f877a6a0"
      },
      "source": [
        "total_t=0\n",
        "correct_t=0\n",
        "all_preds = []\n",
        "all_labels = []\n",
        "with torch.no_grad():\n",
        "  net.eval()\n",
        "  for data_t, target_t in (dataloader_test):\n",
        "      data_t, target_t = data_t.to(device), target_t.to(device)\n",
        "      outputs_t = net(data_t)\n",
        "      _,pred_t = torch.max(outputs_t, dim=1)\n",
        "      correct_t += torch.sum(pred_t==target_t).item()\n",
        "      total_t += target_t.size(0)\n",
        "      all_preds.append(pred_t)\n",
        "      all_labels.append(target_t)\n",
        "print('Accuracy of the network on the test images: %d %%' % (\n",
        "    100 * correct_t / total_t))"
      ],
      "execution_count": null,
      "outputs": [
        {
          "output_type": "stream",
          "text": [
            "Accuracy of the network on the test images: 93 %\n"
          ],
          "name": "stdout"
        }
      ]
    },
    {
      "cell_type": "code",
      "metadata": {
        "colab": {
          "base_uri": "https://localhost:8080/",
          "height": 614
        },
        "id": "o6fPgfutqKkr",
        "outputId": "770561b6-5c10-4365-c1e6-59eaeaeb5b3b"
      },
      "source": [
        "plt.figure(figsize=(8,8))\n",
        "plot_confusion_matrix(all_preds, all_labels, test_dataset.classes)"
      ],
      "execution_count": null,
      "outputs": [
        {
          "output_type": "stream",
          "text": [
            "tensor([[165,  52,   0],\n",
            "        [  3, 609,   0],\n",
            "        [  0,   8,  73]])\n"
          ],
          "name": "stdout"
        },
        {
          "output_type": "display_data",
          "data": {
            "image/png": "[encoded data removed]",
            "text/plain": [
              "<Figure size 576x576 with 2 Axes>"
            ]
          },
          "metadata": {
            "tags": [],
            "image/png": {
              "width": 564,
              "height": 546
            },
            "needs_background": "light"
          }
        }
      ]
    },
    {
      "cell_type": "code",
      "metadata": {
        "colab": {
          "base_uri": "https://localhost:8080/"
        },
        "id": "blnCiE_8qNXj",
        "outputId": "5cc3e0ec-dd6e-464f-8257-460831d73c2d"
      },
      "source": [
        "print('\\n*Classification Report:\\n', metrics.classification_report(torch.cat(all_labels, dim=0).detach().cpu().numpy(), torch.cat(all_preds, dim=0).detach().cpu().numpy(), target_names=['COVID', 'Normal', 'Viral Pneumonia']))\n"
      ],
      "execution_count": null,
      "outputs": [
        {
          "output_type": "stream",
          "text": [
            "\n",
            "*Classification Report:\n",
            "                  precision    recall  f1-score   support\n",
            "\n",
            "          COVID       0.98      0.76      0.86       217\n",
            "         Normal       0.91      1.00      0.95       612\n",
            "Viral Pneumonia       1.00      0.90      0.95        81\n",
            "\n",
            "       accuracy                           0.93       910\n",
            "      macro avg       0.96      0.89      0.92       910\n",
            "   weighted avg       0.94      0.93      0.93       910\n",
            "\n"
          ],
          "name": "stdout"
        }
      ]
    }
  ]
}